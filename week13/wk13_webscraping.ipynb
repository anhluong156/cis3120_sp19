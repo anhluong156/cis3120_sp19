{
 "cells": [
  {
   "cell_type": "markdown",
   "metadata": {},
   "source": [
    "### Web Scraping: Intro"
   ]
  },
  {
   "cell_type": "markdown",
   "metadata": {},
   "source": [
    "### urllib & requests packages\n"
   ]
  },
  {
   "cell_type": "code",
   "execution_count": 82,
   "metadata": {},
   "outputs": [],
   "source": [
    "from urllib.request import urlopen\n",
    "webpage = urlopen('http://faculty.baruch.cuny.edu/nkumar/pytest/page.htm')\n",
    "for line in webpage:\n",
    "    print(line.strip().decode('utf-8'))"
   ]
  },
  {
   "cell_type": "code",
   "execution_count": 55,
   "metadata": {},
   "outputs": [],
   "source": [
    "import requests\n",
    "webpage = requests.get('http://faculty.baruch.cuny.edu/nkumar/pytest/page.htm')\n",
    "text = webpage.text\n",
    "#print(text)"
   ]
  },
  {
   "cell_type": "markdown",
   "metadata": {},
   "source": [
    "### BeautifulSoup package\n",
    "- a Python library for pulling data out of HTML and XML files. \n",
    "\n",
    "        from bs4 import BeautifulSoup\n",
    "\n",
    "\n",
    "- we need to fetch content from url first:\n",
    "         webpage = urlopen('http://faculty.baruch.cuny.edu/nkumar/pytest/page.htm')\n",
    "         soup = BeautifulSoup(webpage, 'html5lib')\n",
    "         \n",
    "         \n",
    "- pass the webpage to beautifulsoup to create a soup object\n",
    "\n",
    "         soup = BeautifulSoup(webpage, 'html5lib')\n",
    "         print(soup)\n",
    "         \n",
    "\n",
    "- get Website title:\n",
    "         print(soup.title.string)\n",
    "         \n",
    "         \n",
    "- get Website text:\n",
    "         print(soup.get_text())\n"
   ]
  },
  {
   "cell_type": "markdown",
   "metadata": {},
   "source": [
    "### BeautifulSoup package\n",
    "- get first 'a' tag:\n",
    "        print(soup.a)\n",
    "- get first 'p' tag:\n",
    "        print(soup.p)\n",
    "- get first 'p' tag beneath 'body' tag:\n",
    "        print(soup.body.p)"
   ]
  },
  {
   "cell_type": "markdown",
   "metadata": {},
   "source": [
    "### BeautifulSoup: find_all() method\n",
    "        soup.find_all(\"title\")\n",
    "\n",
    "        soup.find_all(\"a\")\n"
   ]
  },
  {
   "cell_type": "code",
   "execution_count": 49,
   "metadata": {},
   "outputs": [],
   "source": [
    "#print(soup.title.string)\n",
    "#print(soup.a.string)\n",
    "#print(soup.p)\n",
    "#print(soup.get_text())\n",
    "#print(soup.prettify())"
   ]
  },
  {
   "cell_type": "code",
   "execution_count": 54,
   "metadata": {},
   "outputs": [],
   "source": [
    "#print(soup.title.string)\n",
    "#print(soup.a)\n",
    "#print(soup.p)\n",
    "#print(soup.get_text())"
   ]
  },
  {
   "cell_type": "markdown",
   "metadata": {},
   "source": [
    "### BeautifulSoup package\n",
    "\n",
    "\n",
    "- finds all the tags 'b':\n",
    "\n",
    "        soup.find_all('b')\n",
    "\n",
    "- finds all the tags whose names **start** with the letter \"b\", then print tag name:\n",
    "\n",
    "        import re\n",
    "        for tag in soup.find_all(re.compile(\"^b\")):\n",
    "            print(tag.name)\n",
    " \n",
    "- finds all the tags whose names **contain** the letter \"t\", then print tag name:\n",
    "\n",
    "        for tag in soup.find_all(re.compile(\"t\")):\n",
    "            print(tag.name)\n",
    "\n",
    "- get all links from a website:\n",
    "        for links in soup.find_all('a'):\n",
    "            print (links.get('href'))\n"
   ]
  },
  {
   "cell_type": "code",
   "execution_count": 61,
   "metadata": {},
   "outputs": [],
   "source": [
    "webpage = urlopen('http://www.stat.columbia.edu/~gelman')\n",
    "soup = BeautifulSoup(webpage, \"html5lib\") # lxml to parse webpage\n",
    "# write code to get all links on webpage"
   ]
  },
  {
   "cell_type": "code",
   "execution_count": 97,
   "metadata": {},
   "outputs": [
    {
     "name": "stdout",
     "output_type": "stream",
     "text": [
      "<class 'str'> \n",
      "\n",
      "<html>\n",
      "<head>\n",
      "<title>My Page\n",
      "\n"
     ]
    }
   ],
   "source": [
    "import requests\n",
    "r = requests.get('http://faculty.baruch.cuny.edu/nkumar/pytest/page.htm')\n",
    "content =r.text\n",
    "#print('The value of r is', r, '\\n')\n",
    "print(type(content), '\\n')\n",
    "print(content[:30], end='\\n\\n')"
   ]
  },
  {
   "cell_type": "code",
   "execution_count": 87,
   "metadata": {},
   "outputs": [],
   "source": [
    "site = BeautifulSoup(c, 'html5lib')\n",
    "urls=site.find_all('a')\n",
    "#print('tags:',urls, '\\n')\n",
    "#print(type(urls))\n",
    "#print('The first item is:', url[0], '\\n')\n",
    "\n",
    "#for links in urls:\n",
    " #   print('linkname: ', links.text)\n",
    "  #  print('link: ', links.get('href'), '\\n')"
   ]
  },
  {
   "cell_type": "code",
   "execution_count": 95,
   "metadata": {},
   "outputs": [],
   "source": [
    "#webpage2 = urlopen('http://cis.baruch.cuny.edu')\n",
    "#soup = BeautifulSoup(webpage2, 'html5lib')\n",
    "#for t in site.find_all('h2'):\n",
    "    #print('tag:', t, '\\n')\n",
    "    #print('class:', t.get('class'), '\\n')"
   ]
  },
  {
   "cell_type": "code",
   "execution_count": 88,
   "metadata": {},
   "outputs": [],
   "source": [
    "import requests\n",
    "from bs4 import BeautifulSoup\n",
    "\n",
    "r = requests.get('http://faculty.baruch.cuny.edu/nkumar/pytest/page.htm')\n",
    "c = r.text\n",
    "\n",
    "#site = BeautifulSoup(c, 'html5lib')\n",
    "#for links in site.findAll('a'):\n",
    " #   print('link: ', links.get('href'), '\\n')"
   ]
  },
  {
   "cell_type": "code",
   "execution_count": 80,
   "metadata": {},
   "outputs": [],
   "source": [
    "#for a in site.find_all('a'):\n",
    " #   print('anchor tag:', a, '\\n')\n",
    "  #  print('url name:', a.text, '\\n')\n",
    "   # print('url:', a.get('href'), '\\n')"
   ]
  },
  {
   "cell_type": "markdown",
   "metadata": {},
   "source": [
    "## Exercises\n",
    "\n",
    "1. Here is the link to the fulltext of Moby Dick from Project Gutenberg: https://www.gutenberg.org/files/2701/2701-h/2701-h.htm\n",
    "Scrape this page to get the list of chapters.\n",
    "\n",
    "2. Get all the article titles from the MISQ page on forthcoming articles: https://www.misq.org/contents-forthcoming\n",
    "\n",
    "3. Scrape craigslist for the list of apartments for rent by owner in New York (https://newyork.craigslist.org/search/abo). List the price and text description of each apartment listed on the first page. Display the number of times ‘no fee’ appeared in the listing text/description.\n",
    "\n",
    "4. Scrape the entire script of the movie \"My Dinner with Andre\" on this website https://www.scripts.com/script/my_dinner_with_andre_14321. Save the script to a .txt file."
   ]
  }
 ],
 "metadata": {
  "kernelspec": {
   "display_name": "Python 3",
   "language": "python",
   "name": "python3"
  },
  "language_info": {
   "codemirror_mode": {
    "name": "ipython",
    "version": 3
   },
   "file_extension": ".py",
   "mimetype": "text/x-python",
   "name": "python",
   "nbconvert_exporter": "python",
   "pygments_lexer": "ipython3",
   "version": "3.7.6"
  }
 },
 "nbformat": 4,
 "nbformat_minor": 4
}
