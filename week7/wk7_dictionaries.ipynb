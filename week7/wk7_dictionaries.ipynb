{
 "cells": [
  {
   "cell_type": "markdown",
   "metadata": {},
   "source": [
    "# Dictionaries"
   ]
  },
  {
   "cell_type": "markdown",
   "metadata": {},
   "source": [
    "- like a list, but more general\n",
    "- indices for lists: integers\n",
    "- indices for dictionaries: can be almost any type"
   ]
  },
  {
   "cell_type": "markdown",
   "metadata": {},
   "source": [
    "- mapping between a set of indices (**keys**) & a set of values\n",
    "- each key maps to a value\n",
    "- key-value pair"
   ]
  },
  {
   "cell_type": "markdown",
   "metadata": {},
   "source": [
    "`dict()` - creates a new dictionary w/ no items (or use 2 curly brackets ``{}`` )\n"
   ]
  },
  {
   "cell_type": "code",
   "execution_count": 1,
   "metadata": {},
   "outputs": [],
   "source": [
    "# Let's create a dictionray that maps from English words to Spanish words\n",
    "eng_span = dict() # empty dictionary"
   ]
  },
  {
   "cell_type": "code",
   "execution_count": 3,
   "metadata": {},
   "outputs": [],
   "source": [
    "eng_span['one'] = 'uno'"
   ]
  },
  {
   "cell_type": "code",
   "execution_count": 4,
   "metadata": {},
   "outputs": [],
   "source": [
    "eng_span={'one':'uno', 'two':'dos', 'three':'tres'}"
   ]
  },
  {
   "cell_type": "markdown",
   "metadata": {},
   "source": [
    "#### Order of dictionaries' key-value pairs : Might be Unpredictable"
   ]
  },
  {
   "cell_type": "code",
   "execution_count": 24,
   "metadata": {},
   "outputs": [
    {
     "name": "stdout",
     "output_type": "stream",
     "text": [
      "{'one': 'uno', 'two': 'dos', 'three': 'tres'}\n"
     ]
    }
   ],
   "source": [
    "print(eng_span)"
   ]
  },
  {
   "cell_type": "code",
   "execution_count": 13,
   "metadata": {
    "scrolled": false
   },
   "outputs": [
    {
     "name": "stdout",
     "output_type": "stream",
     "text": [
      "tres\n"
     ]
    }
   ],
   "source": [
    "print(eng_span['three'])"
   ]
  },
  {
   "cell_type": "code",
   "execution_count": 14,
   "metadata": {},
   "outputs": [
    {
     "ename": "KeyError",
     "evalue": "'four'",
     "output_type": "error",
     "traceback": [
      "\u001b[0;31m---------------------------------------------------------------------------\u001b[0m",
      "\u001b[0;31mKeyError\u001b[0m                                  Traceback (most recent call last)",
      "\u001b[0;32m<ipython-input-14-ac1a6e99ec61>\u001b[0m in \u001b[0;36m<module>\u001b[0;34m()\u001b[0m\n\u001b[0;32m----> 1\u001b[0;31m \u001b[0mprint\u001b[0m\u001b[0;34m(\u001b[0m\u001b[0meng_span\u001b[0m\u001b[0;34m[\u001b[0m\u001b[0;34m'four'\u001b[0m\u001b[0;34m]\u001b[0m\u001b[0;34m)\u001b[0m\u001b[0;34m\u001b[0m\u001b[0m\n\u001b[0m",
      "\u001b[0;31mKeyError\u001b[0m: 'four'"
     ]
    }
   ],
   "source": [
    "print(eng_span['four']) # Error because key 'four' is not included in the dictionary eng_span"
   ]
  },
  {
   "cell_type": "code",
   "execution_count": 15,
   "metadata": {
    "scrolled": true
   },
   "outputs": [
    {
     "data": {
      "text/plain": [
       "3"
      ]
     },
     "execution_count": 15,
     "metadata": {},
     "output_type": "execute_result"
    }
   ],
   "source": [
    "len(eng_span)  # returns number of key-val pairs in a dictionary"
   ]
  },
  {
   "cell_type": "markdown",
   "metadata": {},
   "source": [
    "#### Using ``in`` operator to test whether something appears as a *key* in a dictionary"
   ]
  },
  {
   "cell_type": "code",
   "execution_count": 16,
   "metadata": {},
   "outputs": [
    {
     "data": {
      "text/plain": [
       "True"
      ]
     },
     "execution_count": 16,
     "metadata": {},
     "output_type": "execute_result"
    }
   ],
   "source": [
    "'one' in eng_span"
   ]
  },
  {
   "cell_type": "code",
   "execution_count": 18,
   "metadata": {},
   "outputs": [
    {
     "data": {
      "text/plain": [
       "False"
      ]
     },
     "execution_count": 18,
     "metadata": {},
     "output_type": "execute_result"
    }
   ],
   "source": [
    "'uno' in eng_span\n",
    "# in operator only tests whether something appears as a key in the dictionary -- not value"
   ]
  },
  {
   "cell_type": "markdown",
   "metadata": {},
   "source": [
    "#### To test whether something appears as a value in a dictionary, use the method values"
   ]
  },
  {
   "cell_type": "code",
   "execution_count": 22,
   "metadata": {
    "scrolled": true
   },
   "outputs": [
    {
     "name": "stdout",
     "output_type": "stream",
     "text": [
      "<class 'dict_values'>\n"
     ]
    },
    {
     "data": {
      "text/plain": [
       "True"
      ]
     },
     "execution_count": 22,
     "metadata": {},
     "output_type": "execute_result"
    }
   ],
   "source": [
    "vals = eng_span.values()\n",
    "print(type(vals))\n",
    "'uno' in vals"
   ]
  },
  {
   "cell_type": "markdown",
   "metadata": {},
   "source": [
    "#### To retrieve a value from a dictionary\n",
    "\n",
    "``dictionary_name[key]``\n",
    "\n",
    "\n",
    "If the key does not exist, a KeyError exception is raised."
   ]
  },
  {
   "cell_type": "markdown",
   "metadata": {},
   "source": [
    "#### Adding Elements to an Existing Dictionary\n",
    "\n",
    "- Dictionaries are mutable\n",
    "- Use assignment statement to add new elements to a dictionary <br>\n",
    "``dictionary_name[key] = value``\n",
    "    -  If key already exists in the dictionary, its associated value will be changed to value."
   ]
  },
  {
   "cell_type": "markdown",
   "metadata": {},
   "source": [
    "#### Deleting Elements from a Dictionary\n",
    "- Can use ``del`` operator:<br>\n",
    "``del dictionary_name[key]``\n",
    "    -  If the key does not exist, a KeyError exception is raised\n",
    "\n",
    "- Should use the ``in`` operator to determine whether a key exists before you try to delete it and its associated value"
   ]
  },
  {
   "cell_type": "markdown",
   "metadata": {},
   "source": [
    "#### Using the ``for`` Loop to Iterate over a Dictionary\n",
    "\n",
    "``for key in dictionary: \n",
    "        statement\n",
    "        statement\n",
    "        etc.``"
   ]
  },
  {
   "cell_type": "code",
   "execution_count": 38,
   "metadata": {
    "scrolled": true
   },
   "outputs": [
    {
     "name": "stdout",
     "output_type": "stream",
     "text": [
      "Chris 555−1111\n",
      "Katie 555−2222\n",
      "Joanne 555−3333\n"
     ]
    }
   ],
   "source": [
    "phonebook = {'Chris':'555−1111',  'Katie':'555−2222', 'Joanne':'555−3333'}\n",
    "for key in phonebook: \n",
    "    print(key, phonebook[key])"
   ]
  },
  {
   "cell_type": "markdown",
   "metadata": {},
   "source": [
    "#### Some Dictionary Methods\n",
    "\n",
    "``dictionary.clear()``  clears all elements in a dictionary\n",
    "\n",
    "``dictionary.get(key, default)``  uses a key to search for its value in the dictionary, and default is a default value to return if the key is not found.\n",
    "\n",
    "``dictionary.items()`` returns all keys and their associated values in a dictionary\n",
    "\n",
    "``dictionary.pop(key, default)``  returns the value associated with a specified key and removes that key- value pair from the dictionary.\n",
    "\n",
    "``dictionary.popitem()`` returns a **randomly selected key-value pair**, and it removes that key- value pair from the dictionary\n",
    "\n",
    "``key`` method; ``values`` method (examples above)"
   ]
  },
  {
   "cell_type": "code",
   "execution_count": 30,
   "metadata": {},
   "outputs": [
    {
     "name": "stdout",
     "output_type": "stream",
     "text": [
      "Entry not found\n"
     ]
    }
   ],
   "source": [
    "value = phonebook.get('Andy', 'Entry not found')\n",
    "print(value)"
   ]
  },
  {
   "cell_type": "code",
   "execution_count": 35,
   "metadata": {},
   "outputs": [
    {
     "data": {
      "text/plain": [
       "dict_items([('Chris', '555−1111'), ('Katie', '555−2222'), ('Joanne', '555−3333')])"
      ]
     },
     "execution_count": 35,
     "metadata": {},
     "output_type": "execute_result"
    }
   ],
   "source": [
    "phonebook.items() \n",
    "# returns a sequence of tuples"
   ]
  },
  {
   "cell_type": "code",
   "execution_count": 34,
   "metadata": {},
   "outputs": [
    {
     "name": "stdout",
     "output_type": "stream",
     "text": [
      "Chris 555−1111\n",
      "Katie 555−2222\n",
      "Joanne 555−3333\n"
     ]
    }
   ],
   "source": [
    "# You can use the for loop to iterate over the tuples in the sequence.\n",
    "for key, value in phonebook.items():\n",
    "    print(key, value)"
   ]
  },
  {
   "cell_type": "code",
   "execution_count": 39,
   "metadata": {},
   "outputs": [
    {
     "data": {
      "text/plain": [
       "'555−1111'"
      ]
     },
     "execution_count": 39,
     "metadata": {},
     "output_type": "execute_result"
    }
   ],
   "source": [
    "phone_num = phonebook.pop('Chris', 'Entry not found')\n",
    "phone_num"
   ]
  },
  {
   "cell_type": "code",
   "execution_count": 40,
   "metadata": {
    "scrolled": true
   },
   "outputs": [
    {
     "name": "stdout",
     "output_type": "stream",
     "text": [
      "Joanne 555−3333\n"
     ]
    }
   ],
   "source": [
    "key, value = phonebook.popitem()\n",
    "print(key,value)"
   ]
  },
  {
   "cell_type": "markdown",
   "metadata": {},
   "source": [
    "##### Read more about dictionaries, along with the other data structures we have learned, and their methods here:\n",
    "https://docs.python.org/3.7/tutorial/datastructures.html#dictionaries"
   ]
  },
  {
   "cell_type": "markdown",
   "metadata": {},
   "source": [
    "##### Another tutorial about dictionaries:\n",
    "\n",
    "https://www.datacamp.com/community/tutorials/python-dictionary-tutorial#dictionary_compare"
   ]
  },
  {
   "cell_type": "markdown",
   "metadata": {},
   "source": [
    "### Exercise:\n",
    "\n",
    "**File Encryption and Decryption**\n",
    "Write a program that uses a dictionary to assign “codes” to each letter of the alphabet. For example:\n",
    "codes = { ‘A’ : ‘%’, ‘a’ : ‘9’, ‘B’ : ‘@’, ‘b’ : ‘#’, etc . . .}\n",
    "\n",
    "Using this example, the letter A would be assigned the symbol %, the letter a would be\n",
    "assigned the number 9, the letter B would be assigned the symbol @, and so forth.\n",
    "\n",
    "The program should open a specified text file, read its contents, then use the dictionary to write an encrypted version of the file’s contents to a second file.<br>\n",
    "Each character in the second file should contain the code for the corresponding character in the first file.\n",
    "\n",
    "*(read my jupyter notebook on files for how to open, read, write/modify contents of a text file)*\n",
    "\n",
    "Write a second program that opens an encrypted file and displays its decrypted contents on the screen.\n"
   ]
  }
 ],
 "metadata": {
  "kernelspec": {
   "display_name": "Python 3",
   "language": "python",
   "name": "python3"
  },
  "language_info": {
   "codemirror_mode": {
    "name": "ipython",
    "version": 3
   },
   "file_extension": ".py",
   "mimetype": "text/x-python",
   "name": "python",
   "nbconvert_exporter": "python",
   "pygments_lexer": "ipython3",
   "version": "3.6.2"
  }
 },
 "nbformat": 4,
 "nbformat_minor": 2
}
