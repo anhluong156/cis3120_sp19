{
 "cells": [
  {
   "cell_type": "markdown",
   "metadata": {},
   "source": [
    "### Files\n",
    "Agenda:<br>\n",
    "Work with text files in three modes: Write, Append and Read<br>\n",
    "Processing the file.<br>\n"
   ]
  },
  {
   "cell_type": "code",
   "execution_count": 1,
   "metadata": {},
   "outputs": [],
   "source": [
    "# Write data into a file\n",
    "# Create a text file and list courses (one course per line) in the file\n",
    "\n",
    "fob=open('courses.txt', 'w')\n",
    "fob.write('Courses: Data Analytics Concentration') # fix error; role of newline?\n",
    "fob.write('Programming for Analytics')\n",
    "fob.write('Data Mining')\n",
    "fob.write('Data warehousing')\n",
    "fob.close()"
   ]
  },
  {
   "cell_type": "code",
   "execution_count": 2,
   "metadata": {},
   "outputs": [],
   "source": [
    "# Write data into a file\n",
    "# Create a text file and list courses (one course per line) in the file\n",
    "\n",
    "fob=open('courses.txt', 'w')\n",
    "fob.write('Courses: Data Analytics Concentration\\n') \n",
    "fob.write('Programming for Analytics\\n')\n",
    "fob.write('Data Mining\\n')\n",
    "fob.close()"
   ]
  },
  {
   "cell_type": "code",
   "execution_count": 4,
   "metadata": {},
   "outputs": [],
   "source": [
    "# Append data to file\n",
    "\n",
    "fob=open('courses.txt', 'a') \n",
    "# what happens if you use 'w'?\n",
    "fob.write('Data Warehousing\\n')\n",
    "fob.close()"
   ]
  },
  {
   "cell_type": "code",
   "execution_count": 8,
   "metadata": {},
   "outputs": [
    {
     "name": "stdout",
     "output_type": "stream",
     "text": [
      "Courses: Data Analytics Concentration\n",
      "Programming for Analytics\n",
      "Data Mining\n",
      "Data Warehousing\n"
     ]
    }
   ],
   "source": [
    "# Open and Process a text file\n",
    "# Read File contents in this example\n",
    "\n",
    "#fob=open('courses.txt','r')\n",
    "fob=open('courses.txt')\n",
    "fcon=fob.read()\n",
    "print (fcon)\n",
    "fob.close()"
   ]
  },
  {
   "cell_type": "code",
   "execution_count": 14,
   "metadata": {},
   "outputs": [
    {
     "name": "stdout",
     "output_type": "stream",
     "text": [
      "Courses: Data Analytics Concentration\n",
      "Programming for Analytics\n",
      "Data Mining\n",
      "Data Warehousing\n"
     ]
    }
   ],
   "source": [
    "fob=open('courses.txt','r')\n",
    "print (fob.read())\n",
    "fob.close()"
   ]
  },
  {
   "cell_type": "code",
   "execution_count": 44,
   "metadata": {},
   "outputs": [
    {
     "name": "stdout",
     "output_type": "stream",
     "text": [
      "Courses: Data Analytics Concentration\n",
      "\n",
      "Programming for Analytics\n",
      "\n"
     ]
    }
   ],
   "source": [
    "fob=open('courses.txt','r')\n",
    "print (fob.readline())\n",
    "print (fob.readline())\n",
    "fob.close()"
   ]
  },
  {
   "cell_type": "code",
   "execution_count": 11,
   "metadata": {},
   "outputs": [
    {
     "name": "stdout",
     "output_type": "stream",
     "text": [
      "Courses: Data Analytics Concentration\n",
      "\n",
      "Programming for Analytics\n",
      "\n",
      "Data Mining\n",
      "\n",
      "Data Warehousing\n"
     ]
    }
   ],
   "source": [
    "# Open and Process a text file\n",
    "# Read File contents and Print lines in this example\n",
    "# using While Loop (EOF - common logic in most programming languages)\n",
    "\n",
    "fob=open('courses.txt','r')\n",
    "line=fob.readline()\n",
    "while line!='':\n",
    "    print (line)\n",
    "    line=fob.readline()\n",
    "fob.close()\n",
    "\n",
    "# print (count); count number of lines\n",
    "# modify program to count the number of lines in the file"
   ]
  },
  {
   "cell_type": "code",
   "execution_count": 45,
   "metadata": {},
   "outputs": [
    {
     "name": "stdout",
     "output_type": "stream",
     "text": [
      "Courses: Data Analytics Concentration\n",
      "\n",
      "Programming for Analytics\n",
      "\n",
      "Data Mining\n",
      "\n",
      "Data WarehousingForecasting\n",
      "\n",
      "Forecasting\n",
      "\n",
      "Forecasting\n",
      "\n",
      "Forecasting\n",
      "\n",
      "Forecasting\n",
      "\n"
     ]
    }
   ],
   "source": [
    "# Open and Process a text file\n",
    "# Read File contents and Print lines in this example\n",
    "# using While (EOF) and For (more elegant) Loops\n",
    "\n",
    "fob=open('courses.txt','r') \n",
    "# fob is a file object that can be used to access the contents of the file\n",
    "\n",
    "for line in fob:\n",
    "    print (line)\n",
    "fob.close()"
   ]
  },
  {
   "cell_type": "code",
   "execution_count": 13,
   "metadata": {},
   "outputs": [
    {
     "name": "stdout",
     "output_type": "stream",
     "text": [
      "['Courses: Data Analytics Concentration\\n', 'Programming for Analytics\\n', 'Data Mining\\n', 'Data Warehousing']\n"
     ]
    }
   ],
   "source": [
    "# Revisit after covering Lists in the next module\n",
    "\n",
    "fob=open('courses.txt','r')\n",
    "mylist=[]\n",
    "for line in fob:\n",
    "    mylist.append(line)\n",
    "print (mylist)\n",
    "fob.close()"
   ]
  },
  {
   "cell_type": "code",
   "execution_count": 64,
   "metadata": {},
   "outputs": [
    {
     "name": "stdout",
     "output_type": "stream",
     "text": [
      "Courses: Data Analytics Concentration\n",
      "Programming for Analytics\n",
      "Data Mining\n",
      "Data WarehousingForecasting\n",
      "Forecasting\n",
      "Forecasting\n",
      "Forecasting\n",
      "Forecasting\n",
      "Forecasting\n",
      "Forecasting\n",
      "\n",
      "------------------------------------------\n",
      "The number of lines in the file:  10\n"
     ]
    }
   ],
   "source": [
    "# Number of Lines in the file\n",
    "\n",
    "fob=open('courses.txt','r')\n",
    "count=0\n",
    "for line in fob:\n",
    "    print (line, end ='')\n",
    "    count+=1\n",
    "print ('\\n------------------------------------------')\n",
    "print ('The number of lines in the file: ', count)\n",
    "fob.close()"
   ]
  },
  {
   "cell_type": "code",
   "execution_count": 16,
   "metadata": {},
   "outputs": [
    {
     "name": "stdout",
     "output_type": "stream",
     "text": [
      "Courses: Data Analytics Concentration\n",
      "Programming for Analytics\n",
      "Data Mining\n",
      "Data Warehousing\n",
      "------------------------------------------\n",
      "The number of lines in the file:  4\n"
     ]
    }
   ],
   "source": [
    "# Number of Lines in the file\n",
    "\n",
    "fob=open('courses.txt','r')\n",
    "count=0\n",
    "for line in fob:\n",
    "    print (line.rstrip('\\n'))\n",
    "    count+=1\n",
    "print ('------------------------------------------')\n",
    "print ('The number of lines in the file: ', count)\n",
    "fob.close()"
   ]
  },
  {
   "cell_type": "code",
   "execution_count": 17,
   "metadata": {},
   "outputs": [
    {
     "name": "stdout",
     "output_type": "stream",
     "text": [
      "done\n"
     ]
    }
   ],
   "source": [
    "# processing; print lines that satisfy a specific condition\n",
    "fob=open('courses.txt','r')\n",
    "for line in fob:\n",
    "    if  line.startswith('Ch'):\n",
    "        print (line)\n",
    "print ('done')\n",
    "fob.close()"
   ]
  },
  {
   "cell_type": "code",
   "execution_count": 62,
   "metadata": {},
   "outputs": [
    {
     "name": "stdout",
     "output_type": "stream",
     "text": [
      "What to find: 148\n",
      "1\n"
     ]
    }
   ],
   "source": [
    "#finding data in a file\n",
    "\n",
    "fob=open('scores.txt','r')\n",
    "flag=False\n",
    "findThis=input('What to find: ')\n",
    "count = 0\n",
    "for line in fob:\n",
    "    pos=line.find(findThis)\n",
    "    if pos != -1:\n",
    "        count += 1\n",
    "        print(count)\n",
    "   # if pos!=-1:\n",
    "      #  print(line, pos)\n",
    "       # flag=True\n",
    "   # if not flag:\n",
    "      #  print('Not found')\n",
    "fob.close()"
   ]
  },
  {
   "cell_type": "code",
   "execution_count": 33,
   "metadata": {},
   "outputs": [
    {
     "name": "stdout",
     "output_type": "stream",
     "text": [
      "/Users/anhluong/rozprawa/3120_spring19/sample_materials/JupyterNotebooks\n"
     ]
    }
   ],
   "source": [
    "import os\n",
    "print(os.getcwd())"
   ]
  },
  {
   "cell_type": "code",
   "execution_count": 49,
   "metadata": {},
   "outputs": [],
   "source": [
    "fob=open(os.getcwd()+r\"\\courses.txt\", 'a') # what happens if you use 'w'?\n",
    "fob.write('Forecasting\\n')\n",
    "fob.close()"
   ]
  },
  {
   "cell_type": "code",
   "execution_count": 46,
   "metadata": {},
   "outputs": [
    {
     "ename": "KeyboardInterrupt",
     "evalue": "",
     "output_type": "error",
     "traceback": [
      "\u001b[0;31m---------------------------------------------------------------------------\u001b[0m",
      "\u001b[0;31mKeyboardInterrupt\u001b[0m                         Traceback (most recent call last)",
      "\u001b[0;32m~/ENV/lib/python3.6/site-packages/ipykernel/kernelbase.py\u001b[0m in \u001b[0;36m_input_request\u001b[0;34m(self, prompt, ident, parent, password)\u001b[0m\n\u001b[1;32m    728\u001b[0m             \u001b[0;32mtry\u001b[0m\u001b[0;34m:\u001b[0m\u001b[0;34m\u001b[0m\u001b[0m\n\u001b[0;32m--> 729\u001b[0;31m                 \u001b[0mident\u001b[0m\u001b[0;34m,\u001b[0m \u001b[0mreply\u001b[0m \u001b[0;34m=\u001b[0m \u001b[0mself\u001b[0m\u001b[0;34m.\u001b[0m\u001b[0msession\u001b[0m\u001b[0;34m.\u001b[0m\u001b[0mrecv\u001b[0m\u001b[0;34m(\u001b[0m\u001b[0mself\u001b[0m\u001b[0;34m.\u001b[0m\u001b[0mstdin_socket\u001b[0m\u001b[0;34m,\u001b[0m \u001b[0;36m0\u001b[0m\u001b[0;34m)\u001b[0m\u001b[0;34m\u001b[0m\u001b[0m\n\u001b[0m\u001b[1;32m    730\u001b[0m             \u001b[0;32mexcept\u001b[0m \u001b[0mException\u001b[0m\u001b[0;34m:\u001b[0m\u001b[0;34m\u001b[0m\u001b[0m\n",
      "\u001b[0;32m~/ENV/lib/python3.6/site-packages/jupyter_client/session.py\u001b[0m in \u001b[0;36mrecv\u001b[0;34m(self, socket, mode, content, copy)\u001b[0m\n\u001b[1;32m    802\u001b[0m         \u001b[0;32mtry\u001b[0m\u001b[0;34m:\u001b[0m\u001b[0;34m\u001b[0m\u001b[0m\n\u001b[0;32m--> 803\u001b[0;31m             \u001b[0mmsg_list\u001b[0m \u001b[0;34m=\u001b[0m \u001b[0msocket\u001b[0m\u001b[0;34m.\u001b[0m\u001b[0mrecv_multipart\u001b[0m\u001b[0;34m(\u001b[0m\u001b[0mmode\u001b[0m\u001b[0;34m,\u001b[0m \u001b[0mcopy\u001b[0m\u001b[0;34m=\u001b[0m\u001b[0mcopy\u001b[0m\u001b[0;34m)\u001b[0m\u001b[0;34m\u001b[0m\u001b[0m\n\u001b[0m\u001b[1;32m    804\u001b[0m         \u001b[0;32mexcept\u001b[0m \u001b[0mzmq\u001b[0m\u001b[0;34m.\u001b[0m\u001b[0mZMQError\u001b[0m \u001b[0;32mas\u001b[0m \u001b[0me\u001b[0m\u001b[0;34m:\u001b[0m\u001b[0;34m\u001b[0m\u001b[0m\n",
      "\u001b[0;32m~/ENV/lib/python3.6/site-packages/zmq/sugar/socket.py\u001b[0m in \u001b[0;36mrecv_multipart\u001b[0;34m(self, flags, copy, track)\u001b[0m\n\u001b[1;32m    465\u001b[0m         \"\"\"\n\u001b[0;32m--> 466\u001b[0;31m         \u001b[0mparts\u001b[0m \u001b[0;34m=\u001b[0m \u001b[0;34m[\u001b[0m\u001b[0mself\u001b[0m\u001b[0;34m.\u001b[0m\u001b[0mrecv\u001b[0m\u001b[0;34m(\u001b[0m\u001b[0mflags\u001b[0m\u001b[0;34m,\u001b[0m \u001b[0mcopy\u001b[0m\u001b[0;34m=\u001b[0m\u001b[0mcopy\u001b[0m\u001b[0;34m,\u001b[0m \u001b[0mtrack\u001b[0m\u001b[0;34m=\u001b[0m\u001b[0mtrack\u001b[0m\u001b[0;34m)\u001b[0m\u001b[0;34m]\u001b[0m\u001b[0;34m\u001b[0m\u001b[0m\n\u001b[0m\u001b[1;32m    467\u001b[0m         \u001b[0;31m# have first part already, only loop while more to receive\u001b[0m\u001b[0;34m\u001b[0m\u001b[0;34m\u001b[0m\u001b[0m\n",
      "\u001b[0;32mzmq/backend/cython/socket.pyx\u001b[0m in \u001b[0;36mzmq.backend.cython.socket.Socket.recv\u001b[0;34m()\u001b[0m\n",
      "\u001b[0;32mzmq/backend/cython/socket.pyx\u001b[0m in \u001b[0;36mzmq.backend.cython.socket.Socket.recv\u001b[0;34m()\u001b[0m\n",
      "\u001b[0;32mzmq/backend/cython/socket.pyx\u001b[0m in \u001b[0;36mzmq.backend.cython.socket._recv_copy\u001b[0;34m()\u001b[0m\n",
      "\u001b[0;32m~/ENV/lib/python3.6/site-packages/zmq/backend/cython/checkrc.pxd\u001b[0m in \u001b[0;36mzmq.backend.cython.checkrc._check_rc\u001b[0;34m()\u001b[0m\n",
      "\u001b[0;31mKeyboardInterrupt\u001b[0m: ",
      "\nDuring handling of the above exception, another exception occurred:\n",
      "\u001b[0;31mKeyboardInterrupt\u001b[0m                         Traceback (most recent call last)",
      "\u001b[0;32m<ipython-input-46-89ebf0a82699>\u001b[0m in \u001b[0;36m<module>\u001b[0;34m()\u001b[0m\n\u001b[1;32m     10\u001b[0m         \u001b[0mreadFile\u001b[0m\u001b[0;34m(\u001b[0m\u001b[0;34m)\u001b[0m\u001b[0;34m\u001b[0m\u001b[0m\n\u001b[1;32m     11\u001b[0m \u001b[0;34m\u001b[0m\u001b[0m\n\u001b[0;32m---> 12\u001b[0;31m \u001b[0mreadFile\u001b[0m\u001b[0;34m(\u001b[0m\u001b[0;34m)\u001b[0m\u001b[0;34m\u001b[0m\u001b[0m\n\u001b[0m",
      "\u001b[0;32m<ipython-input-46-89ebf0a82699>\u001b[0m in \u001b[0;36mreadFile\u001b[0;34m()\u001b[0m\n\u001b[1;32m      1\u001b[0m \u001b[0;32mdef\u001b[0m \u001b[0mreadFile\u001b[0m\u001b[0;34m(\u001b[0m\u001b[0;34m)\u001b[0m\u001b[0;34m:\u001b[0m\u001b[0;34m\u001b[0m\u001b[0m\n\u001b[1;32m      2\u001b[0m     \u001b[0;32mtry\u001b[0m\u001b[0;34m:\u001b[0m\u001b[0;34m\u001b[0m\u001b[0m\n\u001b[0;32m----> 3\u001b[0;31m         \u001b[0mfileName\u001b[0m\u001b[0;34m=\u001b[0m\u001b[0minput\u001b[0m\u001b[0;34m(\u001b[0m\u001b[0;34m'Enter file name:'\u001b[0m\u001b[0;34m)\u001b[0m\u001b[0;34m\u001b[0m\u001b[0m\n\u001b[0m\u001b[1;32m      4\u001b[0m         \u001b[0mfob\u001b[0m\u001b[0;34m=\u001b[0m\u001b[0mopen\u001b[0m\u001b[0;34m(\u001b[0m\u001b[0mfileName\u001b[0m\u001b[0;34m,\u001b[0m\u001b[0;34m'r'\u001b[0m\u001b[0;34m)\u001b[0m\u001b[0;34m\u001b[0m\u001b[0m\n\u001b[1;32m      5\u001b[0m         \u001b[0;32mfor\u001b[0m \u001b[0mline\u001b[0m \u001b[0;32min\u001b[0m \u001b[0mfob\u001b[0m\u001b[0;34m:\u001b[0m\u001b[0;34m\u001b[0m\u001b[0m\n",
      "\u001b[0;32m~/ENV/lib/python3.6/site-packages/ipykernel/kernelbase.py\u001b[0m in \u001b[0;36mraw_input\u001b[0;34m(self, prompt)\u001b[0m\n\u001b[1;32m    702\u001b[0m             \u001b[0mself\u001b[0m\u001b[0;34m.\u001b[0m\u001b[0m_parent_ident\u001b[0m\u001b[0;34m,\u001b[0m\u001b[0;34m\u001b[0m\u001b[0m\n\u001b[1;32m    703\u001b[0m             \u001b[0mself\u001b[0m\u001b[0;34m.\u001b[0m\u001b[0m_parent_header\u001b[0m\u001b[0;34m,\u001b[0m\u001b[0;34m\u001b[0m\u001b[0m\n\u001b[0;32m--> 704\u001b[0;31m             \u001b[0mpassword\u001b[0m\u001b[0;34m=\u001b[0m\u001b[0;32mFalse\u001b[0m\u001b[0;34m,\u001b[0m\u001b[0;34m\u001b[0m\u001b[0m\n\u001b[0m\u001b[1;32m    705\u001b[0m         )\n\u001b[1;32m    706\u001b[0m \u001b[0;34m\u001b[0m\u001b[0m\n",
      "\u001b[0;32m~/ENV/lib/python3.6/site-packages/ipykernel/kernelbase.py\u001b[0m in \u001b[0;36m_input_request\u001b[0;34m(self, prompt, ident, parent, password)\u001b[0m\n\u001b[1;32m    732\u001b[0m             \u001b[0;32mexcept\u001b[0m \u001b[0mKeyboardInterrupt\u001b[0m\u001b[0;34m:\u001b[0m\u001b[0;34m\u001b[0m\u001b[0m\n\u001b[1;32m    733\u001b[0m                 \u001b[0;31m# re-raise KeyboardInterrupt, to truncate traceback\u001b[0m\u001b[0;34m\u001b[0m\u001b[0;34m\u001b[0m\u001b[0m\n\u001b[0;32m--> 734\u001b[0;31m                 \u001b[0;32mraise\u001b[0m \u001b[0mKeyboardInterrupt\u001b[0m\u001b[0;34m\u001b[0m\u001b[0m\n\u001b[0m\u001b[1;32m    735\u001b[0m             \u001b[0;32melse\u001b[0m\u001b[0;34m:\u001b[0m\u001b[0;34m\u001b[0m\u001b[0m\n\u001b[1;32m    736\u001b[0m                 \u001b[0;32mbreak\u001b[0m\u001b[0;34m\u001b[0m\u001b[0m\n",
      "\u001b[0;31mKeyboardInterrupt\u001b[0m: "
     ]
    }
   ],
   "source": [
    "def readFile():\n",
    "    try:\n",
    "        fileName=input('Enter file name:')\n",
    "        fob=open(fileName,'r') \n",
    "        for line in fob:\n",
    "            print(line)\n",
    "        fob.close()\n",
    "    except IOError as err:\n",
    "        print('File not found', err)\n",
    "        readFile()\n",
    "\n",
    "readFile()"
   ]
  }
 ],
 "metadata": {
  "kernelspec": {
   "display_name": "Python 3",
   "language": "python",
   "name": "python3"
  },
  "language_info": {
   "codemirror_mode": {
    "name": "ipython",
    "version": 3
   },
   "file_extension": ".py",
   "mimetype": "text/x-python",
   "name": "python",
   "nbconvert_exporter": "python",
   "pygments_lexer": "ipython3",
   "version": "3.6.2"
  }
 },
 "nbformat": 4,
 "nbformat_minor": 1
}
