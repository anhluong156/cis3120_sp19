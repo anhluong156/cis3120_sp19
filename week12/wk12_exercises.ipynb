{
 "cells": [
  {
   "cell_type": "markdown",
   "metadata": {},
   "source": [
    "# Week 12 Exercises"
   ]
  },
  {
   "cell_type": "markdown",
   "metadata": {},
   "source": [
    "## Exercise 1. Airbnb Data\n",
    "Import the Airbnb.csv file as a pandas dataframe and write python code to do the following:\n",
    "\n",
    "#### 1.1. Descriptive Stats\n",
    "\n",
    "1. Convert columns with numeric values to numeric type if they are not yet set as such\n",
    "2. Find the columns that should be treated as categorical variables, convert them to categorical type, and rename their different values according to their respective meanings\n",
    "3. Use describe() function on the entire dataframe and write your own interpretation of the results\n",
    "4. Display average price organized by number of bedrooms and cancellation policy. \n",
    "5. Display the median price for units that are instant bookable and units that are not.\n",
    "6. Display the average price organized by host_is_superhost and instant_bookable, and write your own interpretation of the output.\n",
    "\n",
    "#### 1.2. Visualizing Data\n",
    "1. Display a distribution plot for listings' prices \n",
    "2. Construct an appropriate graph that shows differences in prices across the categories of BOTH host_is_superhost & instant_bookable\n",
    "3. Construct an appropriate graph that shows differences in prices across the categories of BOTH cancellation policy & instant_bookable\n",
    "4. Provide your own interpretation of all 3 graphs\n",
    "\n",
    "Hint: you could use the following code to convert data in the column price from string to float:\n",
    "\n",
    "    df1 = df.replace('\\$', '', regex=True)\n",
    "    df1['price'] = df1['price'].astype(float)"
   ]
  },
  {
   "cell_type": "markdown",
   "metadata": {},
   "source": [
    "## Exercise 2. OMDB API\n",
    "\n",
    "Go to omdbapi.com, get your free API key, and write python code to get the following information about a movie of your choice.\n",
    "\n",
    "### 2.1. \n",
    "Output the released date of the movie\n",
    "\n",
    "### 2.2. \n",
    "Output the short plot of the movie\n",
    "\n",
    "### 2.3. \n",
    "Output the full plot of the movie\n",
    "\n",
    "### 2.4. \n",
    "Output the Rotten Tomatoes score for the movie\n",
    "\n",
    "\n",
    "\n"
   ]
  }
 ],
 "metadata": {
  "kernelspec": {
   "display_name": "Python 3",
   "language": "python",
   "name": "python3"
  },
  "language_info": {
   "codemirror_mode": {
    "name": "ipython",
    "version": 3
   },
   "file_extension": ".py",
   "mimetype": "text/x-python",
   "name": "python",
   "nbconvert_exporter": "python",
   "pygments_lexer": "ipython3",
   "version": "3.6.2"
  }
 },
 "nbformat": 4,
 "nbformat_minor": 2
}
