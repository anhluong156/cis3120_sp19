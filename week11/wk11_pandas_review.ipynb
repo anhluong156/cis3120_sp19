{
 "cells": [
  {
   "cell_type": "markdown",
   "metadata": {},
   "source": [
    "## 1.\n",
    "If we have a 2d numpy array named arr1, which of the following is the correct way to convert it to a pandas dataframe?\n",
    "\n",
    "A. df = DataFrame(arr1)\n",
    "\n",
    "B. df = pd.DataFrame(arr1)\n",
    "\n",
    "C. df = [[arr1]]\n",
    "\n",
    "D. df = {arr1}"
   ]
  },
  {
   "cell_type": "markdown",
   "metadata": {},
   "source": [
    "## 2. \n",
    "Axis 0 refers to columns.\n",
    "\n",
    "A. TRUE\n",
    "\n",
    "B. FALSE"
   ]
  },
  {
   "cell_type": "markdown",
   "metadata": {},
   "source": [
    "## 3. \n",
    "Write code to find out number of columns and rows in a pandas dataframe.\n"
   ]
  },
  {
   "cell_type": "markdown",
   "metadata": {},
   "source": [
    "## 4. \n",
    "- Write code to combine two dataframes **df1** & **df2**, that have different columns, but one common column **ID**\n",
    "- Write code to combine two dataframes **df1** & **df2**, that have the same columns, but different values"
   ]
  },
  {
   "cell_type": "markdown",
   "metadata": {},
   "source": [
    "## 5.\n",
    "Write code to transpose a dataframe."
   ]
  },
  {
   "cell_type": "markdown",
   "metadata": {},
   "source": [
    "## 6.\n",
    "\n",
    "Dataframe **df1** has a column **correct_answers** and another column **total_answers**. Write code to add a new column **correct_pct** to **df1**. The new column's values are the percentage of correct answers."
   ]
  },
  {
   "cell_type": "markdown",
   "metadata": {},
   "source": [
    "## 7.\n",
    "\n",
    "Write code to delete the column **avg_val** from dataframe **df2**"
   ]
  },
  {
   "cell_type": "markdown",
   "metadata": {},
   "source": [
    "## 8.\n",
    "\n",
    "Write code to select the value in the 8th row of column **avg_val** in dataframe **df2**"
   ]
  },
  {
   "cell_type": "markdown",
   "metadata": {},
   "source": [
    "## 9\n",
    "Write code to select from dataframe df3 only the rows where the values in column A are greater than 0."
   ]
  },
  {
   "cell_type": "markdown",
   "metadata": {},
   "source": [
    "## 10. \n",
    "df4 has columns A, B, C, D, E, F. Write code to create a new dataframe that only has columns A, C, D from df4"
   ]
  },
  {
   "cell_type": "markdown",
   "metadata": {},
   "source": [
    "## 11. \n",
    "\n",
    "After removing irrelevant rows, the dataframe df5's indices are out of order. Write code to reset the indices of df5."
   ]
  },
  {
   "cell_type": "markdown",
   "metadata": {},
   "source": [
    "# 12.\n",
    "\n",
    "Values in a pandas dataframe are not mutable.\n",
    "\n",
    "A. TRUE\n",
    "\n",
    "B. FALSE"
   ]
  },
  {
   "cell_type": "markdown",
   "metadata": {},
   "source": [
    "## 13.\n",
    "\n",
    "``df6`` has columns **answer**, **correct**, **points**. Write code to rename the columns to **response**, **accuracy**, **earnings**."
   ]
  },
  {
   "cell_type": "markdown",
   "metadata": {},
   "source": [
    "## 14.\n",
    "What does this code do? ``df3['A'].idxmin()``"
   ]
  },
  {
   "cell_type": "markdown",
   "metadata": {},
   "source": [
    "## 15.\n",
    "\n",
    "True or False, and why: The output of  ``df1.idxmin(axis=0)`` is the list of index labels that have min values across the columns of df1.\n"
   ]
  },
  {
   "cell_type": "markdown",
   "metadata": {},
   "source": [
    "## 16. \n",
    "``df6`` has columns ``A``, ``B``, ``C``, ``D``. Write code to sort values of ``df6`` according to columns ``A`` and ``C``.\n"
   ]
  },
  {
   "cell_type": "markdown",
   "metadata": {},
   "source": [
    "## 17.\n",
    "\n",
    "``df7`` has columns ``A``, ``B``, ``C``, ``D``. \n",
    "\n",
    "- Write code to output only the rows in ``df7`` that have the highest 5 values in column ``A``.\n",
    "- Write code to output only the rows in ``df7`` that have the lowest 5 values in column ``C``."
   ]
  },
  {
   "cell_type": "markdown",
   "metadata": {},
   "source": [
    "## 18.\n",
    "\n",
    "``df8`` has data collected from a survey, with 2000 responses. The columns contain data about the respondents' reported age (``age``), ethnicity (``ethn``), gender(``gender``), income (``income``), years of work experience (``workexp``), and their ratings of certain products (columns ``ratingA``, ``ratingB``, ``ratingC``). Each row contains data about one of the 2000 respondents.\n",
    "\n",
    "#### 18.1\n",
    "\n",
    "The researcher wants to see if there are any big differences in ratings for product A (``ratingA``) across age groups. One quick way to gauge this is to look at the average value of each age group. Write code to find the mean of ``ratingA`` for each ``age`` group.\n",
    "\n",
    "#### 18.2\n",
    "The researcher wants to find out how many respondents are in each ethnicity, age, gender category.  Write code to complete this task.\n",
    "\n",
    "#### 18.3\n",
    "The researcher wants to see whether ratings for product B are more polarized within certain age groups than others. One way to explore this is to look at the standard deviation. Write code to output the three groups with the highest standard deviation in ``ratingB`` values."
   ]
  }
 ],
 "metadata": {
  "kernelspec": {
   "display_name": "Python 3",
   "language": "python",
   "name": "python3"
  },
  "language_info": {
   "codemirror_mode": {
    "name": "ipython",
    "version": 3
   },
   "file_extension": ".py",
   "mimetype": "text/x-python",
   "name": "python",
   "nbconvert_exporter": "python",
   "pygments_lexer": "ipython3",
   "version": "3.6.2"
  }
 },
 "nbformat": 4,
 "nbformat_minor": 2
}
