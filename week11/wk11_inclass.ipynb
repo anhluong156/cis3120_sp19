{
 "cells": [
  {
   "cell_type": "markdown",
   "metadata": {},
   "source": [
    "# In Class 11\n"
   ]
  },
  {
   "cell_type": "markdown",
   "metadata": {},
   "source": [
    "Write code using Pandas package to do the following tasks:\n",
    "\n",
    "#### 2.1. \n",
    "Import data from file Hospital_Data.csv using pandas read_csv method\n",
    "\n",
    "#### 2.2.\n",
    "Select only columns 'ProviderID', 'HospitalName', 'State', 'HospitalType', 'HospitalOwnership', 'EmergencyServices', 'Hospitaloverallrating' and assign to a new dataframe.\n",
    "\n",
    "#### 2.3. \n",
    "Rename the values of Hospital Ownership column from:\n",
    "    - 'Voluntary non-profit - Private', \n",
    "        'Voluntary non-profit - Other', \n",
    "        'Government - Hospital District or Authority', \n",
    "        'Voluntary non-profit - Church', \n",
    "        'Government - Local', \n",
    "        'Government - State', \n",
    "        'Government - Federal'\n",
    "    to:\n",
    "        'Volun NP-Private',\n",
    "        'Volun NP-Other',\n",
    "        'Govt-HospDistrict',\n",
    "        'Volunt NP-Church',\n",
    "        'Govt-Local',\n",
    "        'Govt-State',\n",
    "        'Govt-Federal'\n",
    "\n",
    "#### 2.4.\n",
    "Output the standard deviation (SD) in hospital ratings for each hospital type, each hospital ownership, and each state.\n",
    "\n",
    "#### 2.5. \n",
    "- Output the 5 states with the highest SD in average hospital ratings\n",
    "- Output the 5 states with the lowest SD in average hospital ratings\n",
    "- Output the 5 states with the highest average hospital ratings \n",
    "- Output the 5 states with the lowest average hospital ratings \n",
    "<br>\n",
    "(hint: use groupby(), np.mean, agg(), np.std, and nlargest())\n",
    "\n",
    "#### 2.6.\n",
    "\n",
    "Read the following tutorial https://pbpython.com/pandas-crosstab.html\n",
    "and use crosstab to explore the relationships between Hospitaloverallrating & HospitalType; Hospitaloverallrating & HospitalOwnership; HospitalType and HospitalOwnership. Write your interpretation of the results (any meaningful relationship, and how)\n"
   ]
  }
 ],
 "metadata": {
  "kernelspec": {
   "display_name": "Python 3",
   "language": "python",
   "name": "python3"
  },
  "language_info": {
   "codemirror_mode": {
    "name": "ipython",
    "version": 3
   },
   "file_extension": ".py",
   "mimetype": "text/x-python",
   "name": "python",
   "nbconvert_exporter": "python",
   "pygments_lexer": "ipython3",
   "version": "3.6.2"
  }
 },
 "nbformat": 4,
 "nbformat_minor": 2
}
