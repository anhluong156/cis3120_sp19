{
 "cells": [
  {
   "cell_type": "markdown",
   "metadata": {},
   "source": [
    "# Week 11 Practice Exercises"
   ]
  },
  {
   "cell_type": "markdown",
   "metadata": {},
   "source": [
    "## Airbnb Data\n",
    "Import the Airbnb.csv file and write python code to do the following:\n",
    "\n",
    "- Display average price organized by number of bedrooms and cancellation policy.\n",
    "- Display the median price for units that are instant bookable and units that are not.\n",
    "- Display the average price organized by host_is_superhost and instant_bookable, and write your own interpretation of the output.\n",
    "\n",
    "Hint: you could use the following code to convert data in the column price from string to float:\n",
    "\n",
    "    df1 = df.replace('\\$', '', regex=True)\n",
    "    df1['price'] = df1['price'].astype(float)"
   ]
  },
  {
   "cell_type": "markdown",
   "metadata": {},
   "source": [
    "## Amazon Stock Data\n",
    "Import the AMZN_2017-18.csv file as a pandas dataframe. The data contains AMAZON's daily stock prices for the period starting 1/1/2017 and ending 12/31/2018. \n",
    "Write python code to find answers to the following questions:\n",
    "- What's the date with the largest % change in daily closing price?\n",
    "- What is that largest % change value? "
   ]
  }
 ],
 "metadata": {
  "kernelspec": {
   "display_name": "Python 3",
   "language": "python",
   "name": "python3"
  },
  "language_info": {
   "codemirror_mode": {
    "name": "ipython",
    "version": 3
   },
   "file_extension": ".py",
   "mimetype": "text/x-python",
   "name": "python",
   "nbconvert_exporter": "python",
   "pygments_lexer": "ipython3",
   "version": "3.6.2"
  }
 },
 "nbformat": 4,
 "nbformat_minor": 2
}
