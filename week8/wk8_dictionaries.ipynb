{
 "cells": [
  {
   "cell_type": "markdown",
   "metadata": {},
   "source": [
    "# Dictionaries"
   ]
  },
  {
   "cell_type": "markdown",
   "metadata": {},
   "source": [
    "- like a list, but more general\n",
    "- indices for lists: integers\n",
    "- indices for dictionaries: can be almost any type"
   ]
  },
  {
   "cell_type": "markdown",
   "metadata": {},
   "source": [
    "- mapping between a set of indices (**keys**) & a set of values\n",
    "- each key maps to a value\n",
    "- key-value pair"
   ]
  },
  {
   "cell_type": "markdown",
   "metadata": {},
   "source": [
    "`dict()` - creates a new dictionary w/ no items (or use 2 curly brackets ``{}`` )\n"
   ]
  },
  {
   "cell_type": "code",
   "execution_count": 1,
   "metadata": {},
   "outputs": [],
   "source": [
    "# Let's create a dictionray that maps from English words to Spanish words\n",
    "eng_span = dict() # empty dictionary"
   ]
  },
  {
   "cell_type": "code",
   "execution_count": 3,
   "metadata": {},
   "outputs": [],
   "source": [
    "eng_span['one'] = 'uno'"
   ]
  },
  {
   "cell_type": "code",
   "execution_count": 4,
   "metadata": {},
   "outputs": [],
   "source": [
    "eng_span={'one':'uno', 'two':'dos', 'three':'tres'}"
   ]
  },
  {
   "cell_type": "markdown",
   "metadata": {},
   "source": [
    "#### Order of dictionaries' key-value pairs : Might be Unpredictable\n",
    "\n",
    "###### Python 3.7: order of key-value pairs is the same as order entered\n",
    "<br>"
   ]
  },
  {
   "cell_type": "code",
   "execution_count": 24,
   "metadata": {},
   "outputs": [
    {
     "name": "stdout",
     "output_type": "stream",
     "text": [
      "{'one': 'uno', 'two': 'dos', 'three': 'tres'}\n"
     ]
    }
   ],
   "source": [
    "print(eng_span)"
   ]
  },
  {
   "cell_type": "code",
   "execution_count": 13,
   "metadata": {
    "scrolled": false
   },
   "outputs": [
    {
     "name": "stdout",
     "output_type": "stream",
     "text": [
      "tres\n"
     ]
    }
   ],
   "source": [
    "print(eng_span['three'])"
   ]
  },
  {
   "cell_type": "code",
   "execution_count": 14,
   "metadata": {},
   "outputs": [
    {
     "ename": "KeyError",
     "evalue": "'four'",
     "output_type": "error",
     "traceback": [
      "\u001b[0;31m---------------------------------------------------------------------------\u001b[0m",
      "\u001b[0;31mKeyError\u001b[0m                                  Traceback (most recent call last)",
      "\u001b[0;32m<ipython-input-14-ac1a6e99ec61>\u001b[0m in \u001b[0;36m<module>\u001b[0;34m()\u001b[0m\n\u001b[0;32m----> 1\u001b[0;31m \u001b[0mprint\u001b[0m\u001b[0;34m(\u001b[0m\u001b[0meng_span\u001b[0m\u001b[0;34m[\u001b[0m\u001b[0;34m'four'\u001b[0m\u001b[0;34m]\u001b[0m\u001b[0;34m)\u001b[0m\u001b[0;34m\u001b[0m\u001b[0m\n\u001b[0m",
      "\u001b[0;31mKeyError\u001b[0m: 'four'"
     ]
    }
   ],
   "source": [
    "print(eng_span['four']) # Error because key 'four' is not included in the dictionary eng_span"
   ]
  },
  {
   "cell_type": "code",
   "execution_count": 15,
   "metadata": {
    "scrolled": true
   },
   "outputs": [
    {
     "data": {
      "text/plain": [
       "3"
      ]
     },
     "execution_count": 15,
     "metadata": {},
     "output_type": "execute_result"
    }
   ],
   "source": [
    "len(eng_span)  # returns number of key-val pairs in a dictionary"
   ]
  },
  {
   "cell_type": "markdown",
   "metadata": {},
   "source": [
    "#### Using ``in`` operator to test whether something appears as a *key* in a dictionary"
   ]
  },
  {
   "cell_type": "code",
   "execution_count": 16,
   "metadata": {},
   "outputs": [
    {
     "data": {
      "text/plain": [
       "True"
      ]
     },
     "execution_count": 16,
     "metadata": {},
     "output_type": "execute_result"
    }
   ],
   "source": [
    "'one' in eng_span"
   ]
  },
  {
   "cell_type": "code",
   "execution_count": 18,
   "metadata": {},
   "outputs": [
    {
     "data": {
      "text/plain": [
       "False"
      ]
     },
     "execution_count": 18,
     "metadata": {},
     "output_type": "execute_result"
    }
   ],
   "source": [
    "'uno' in eng_span\n",
    "# in operator only tests whether something appears as a key in the dictionary -- not value"
   ]
  },
  {
   "cell_type": "markdown",
   "metadata": {},
   "source": [
    "#### To test whether something appears as a value in a dictionary, use the method values"
   ]
  },
  {
   "cell_type": "code",
   "execution_count": 22,
   "metadata": {
    "scrolled": true
   },
   "outputs": [
    {
     "name": "stdout",
     "output_type": "stream",
     "text": [
      "<class 'dict_values'>\n"
     ]
    },
    {
     "data": {
      "text/plain": [
       "True"
      ]
     },
     "execution_count": 22,
     "metadata": {},
     "output_type": "execute_result"
    }
   ],
   "source": [
    "vals = eng_span.values()\n",
    "print(type(vals))\n",
    "'uno' in vals"
   ]
  },
  {
   "cell_type": "markdown",
   "metadata": {},
   "source": [
    "#### To retrieve a value from a dictionary\n",
    "\n",
    "``dictionary_name[key]``\n",
    "\n",
    "\n",
    "If the key does not exist, a KeyError exception is raised."
   ]
  },
  {
   "cell_type": "markdown",
   "metadata": {},
   "source": [
    "#### Adding Elements to an Existing Dictionary\n",
    "\n",
    "- Dictionaries are mutable\n",
    "- Use assignment statement to add new elements to a dictionary <br>\n",
    "``dictionary_name[key] = value``\n",
    "    -  If key already exists in the dictionary, its associated value will be changed to value."
   ]
  },
  {
   "cell_type": "markdown",
   "metadata": {},
   "source": [
    "#### Deleting Elements from a Dictionary\n",
    "- Can use ``del`` operator:<br>\n",
    "``del dictionary_name[key]``\n",
    "    -  If the key does not exist, a KeyError exception is raised\n",
    "\n",
    "- Should use the ``in`` operator to determine whether a key exists before you try to delete it and its associated value"
   ]
  },
  {
   "cell_type": "markdown",
   "metadata": {},
   "source": [
    "#### Using the ``for`` Loop to Iterate over a Dictionary\n",
    "\n",
    "``for key in dictionary: \n",
    "        statement\n",
    "        statement\n",
    "        etc.``"
   ]
  },
  {
   "cell_type": "code",
   "execution_count": 38,
   "metadata": {
    "scrolled": true
   },
   "outputs": [
    {
     "name": "stdout",
     "output_type": "stream",
     "text": [
      "Chris 555−1111\n",
      "Katie 555−2222\n",
      "Joanne 555−3333\n"
     ]
    }
   ],
   "source": [
    "phonebook = {'Chris':'555−1111',  'Katie':'555−2222', 'Joanne':'555−3333'}\n",
    "for key in phonebook: \n",
    "    print(key, phonebook[key])"
   ]
  },
  {
   "cell_type": "markdown",
   "metadata": {},
   "source": [
    "#### Some Dictionary Methods\n",
    "\n",
    "``dictionary.clear()``  clears all elements in a dictionary\n",
    "\n",
    "``dictionary.get(key, default)``  uses a key to search for its value in the dictionary, and default is a default value to return if the key is not found.\n",
    "\n",
    "``dictionary.items()`` returns all keys and their associated values in a dictionary\n",
    "\n",
    "``dictionary.pop(key, default)``  returns the value associated with a specified key and removes that key- value pair from the dictionary.\n",
    "\n",
    "``dictionary.popitem()`` returns a **randomly selected key-value pair**, and it removes that key- value pair from the dictionary\n",
    "\n",
    "``key`` method; ``values`` method (examples above)"
   ]
  },
  {
   "cell_type": "code",
   "execution_count": 30,
   "metadata": {},
   "outputs": [
    {
     "name": "stdout",
     "output_type": "stream",
     "text": [
      "Entry not found\n"
     ]
    }
   ],
   "source": [
    "value = phonebook.get('Andy', 'Entry not found')\n",
    "print(value)"
   ]
  },
  {
   "cell_type": "code",
   "execution_count": 35,
   "metadata": {},
   "outputs": [
    {
     "data": {
      "text/plain": [
       "dict_items([('Chris', '555−1111'), ('Katie', '555−2222'), ('Joanne', '555−3333')])"
      ]
     },
     "execution_count": 35,
     "metadata": {},
     "output_type": "execute_result"
    }
   ],
   "source": [
    "phonebook.items() \n",
    "# returns a sequence of tuples"
   ]
  },
  {
   "cell_type": "code",
   "execution_count": 34,
   "metadata": {},
   "outputs": [
    {
     "name": "stdout",
     "output_type": "stream",
     "text": [
      "Chris 555−1111\n",
      "Katie 555−2222\n",
      "Joanne 555−3333\n"
     ]
    }
   ],
   "source": [
    "# You can use the for loop to iterate over the tuples in the sequence.\n",
    "for key, value in phonebook.items():\n",
    "    print(key, value)"
   ]
  },
  {
   "cell_type": "code",
   "execution_count": 39,
   "metadata": {},
   "outputs": [
    {
     "data": {
      "text/plain": [
       "'555−1111'"
      ]
     },
     "execution_count": 39,
     "metadata": {},
     "output_type": "execute_result"
    }
   ],
   "source": [
    "phone_num = phonebook.pop('Chris', 'Entry not found')\n",
    "phone_num"
   ]
  },
  {
   "cell_type": "code",
   "execution_count": 40,
   "metadata": {
    "scrolled": true
   },
   "outputs": [
    {
     "name": "stdout",
     "output_type": "stream",
     "text": [
      "Joanne 555−3333\n"
     ]
    }
   ],
   "source": [
    "key, value = phonebook.popitem()\n",
    "print(key,value)"
   ]
  },
  {
   "cell_type": "markdown",
   "metadata": {},
   "source": [
    "##### Read more about dictionaries, along with the other data structures we have learned, and their methods here:\n",
    "https://docs.python.org/3.7/tutorial/datastructures.html#dictionaries"
   ]
  },
  {
   "cell_type": "markdown",
   "metadata": {},
   "source": [
    "##### Another tutorial about dictionaries:\n",
    "\n",
    "https://www.datacamp.com/community/tutorials/python-dictionary-tutorial#dictionary_compare"
   ]
  },
  {
   "cell_type": "markdown",
   "metadata": {},
   "source": [
    "### In-class Exercise: Random Number Frequencies\n",
    "#### 1.\n",
    "1. Write a program that generates 100 random numbers between 1 and 10. \n",
    "2. The program should store the frequency of each number generated in a dictionary with the number as the key and the amount of times it has occurred as the value. \n",
    "3. For example, if the program generates the number 6 a total of 11 times, the dictionary will contain a key of 6 with an associated value of 11. \n",
    "4. Once all of the numbers have been generated, print the frequency for each number."
   ]
  },
  {
   "cell_type": "markdown",
   "metadata": {},
   "source": [
    "#### 2. \n",
    "Write a program that to create a dictionary from a string that lists each character in the string along with the number of times that character appears in that string.\n",
    "\n",
    "Sample string : ‘baruch college’\n",
    "\n",
    "Expected output: {‘b’: 1, ‘a’: 1, ‘r’: 1, ‘u’: 1, ‘c’: 2, ‘h’: 1, ‘ ‘: 1, ‘o’: 1, ‘l’: 2, ‘e’: 2, ‘g’: 1}\n"
   ]
  },
  {
   "cell_type": "code",
   "execution_count": 15,
   "metadata": {
    "scrolled": true
   },
   "outputs": [
    {
     "ename": "SyntaxError",
     "evalue": "invalid syntax (<ipython-input-15-cf26564d38ac>, line 11)",
     "output_type": "error",
     "traceback": [
      "\u001b[0;36m  File \u001b[0;32m\"<ipython-input-15-cf26564d38ac>\"\u001b[0;36m, line \u001b[0;32m11\u001b[0m\n\u001b[0;31m    freq[n] =\u001b[0m\n\u001b[0m              ^\u001b[0m\n\u001b[0;31mSyntaxError\u001b[0m\u001b[0;31m:\u001b[0m invalid syntax\n"
     ]
    }
   ],
   "source": [
    "import random as rd\n",
    "num = []\n",
    "\n",
    "rd.seed(123)\n",
    "\n",
    "for i in range(100):\n",
    "    rand_num = rd.randint(1,10)\n",
    "    \n",
    "freq = {}\n",
    "for n in num:\n",
    "    if n not in freq:\n",
    "        freq[n] = \n",
    "    else:\n",
    "        freq[n] =\n",
    "#print('freq dictionary:\\n', freq, '\\n')\n",
    "\n",
    "# "
   ]
  },
  {
   "cell_type": "markdown",
   "metadata": {},
   "source": [
    "## Practice Exercises:\n",
    "\n",
    "1. Combine following dictionaries to create a new one.\n",
    "\n",
    "dic1={1:10, 2:20}\n",
    "\n",
    "dic2={3:30, 4:40}\n",
    "\n",
    "dic3={5:50,6:60}\n",
    "\n",
    "Expected Result : {1: 10, 2: 20, 3: 30, 4: 40, 5: 50, 6: 60}\n",
    "\n",
    "2. Combine the following dictionaries to create a new one.  If a key repeats across the three dictionaries, you have to add the values corresponding to the key.\n",
    "\n",
    "dic1={1:10, 2:20}\n",
    "\n",
    "dic2={1:20, 3:30, 4:40}\n",
    "\n",
    "dic3={5:50,6:60,3:60}\n",
    "\n",
    "Expected result: {1: 30, 2: 20, 3: 90, 4: 40, 5: 50, 6: 60}\n",
    "\n",
    "3. Print the unique values in this dictionary.\n",
    "{“VI”:”S001″, “IX”: “S002”, “X”: “S001”, “IV”: “S005”, “VII”:”S005″, “V”:”S009″,”VIII”:”S007″}"
   ]
  },
  {
   "cell_type": "markdown",
   "metadata": {},
   "source": [
    "## Homework:\n",
    "\n",
    "1. \n",
    "<br>\n",
    "a. Create a dictionary that has each of the unique words in the Analysis of Mind txt file (check homework week 7 for the txt file) as a key, and the frequencies of the words as values. \n",
    "<br>\n",
    "b. Output the top 20 high frequency words in the text, excluding the following words: \n",
    "**a, an, the, in, up, on, for, by, of, under, onto, into, and, or, if, whether, why, what, who, whom, where, which**\n",
    "\n",
    "2.  \n",
    "<br>\n",
    "\n",
    "a. Download the txt file that has a list of US states and capitals (states_caps.txt). Write a program that reads this file and creates a dictionary with states and capitals as key-value pairs. \n",
    "\n",
    "    You can use the following code to get started or write your own code.\n",
    "\n",
    "        states = open('states_caps.txt', 'r')\n",
    "        states_caps = [] \n",
    "        for line in states:\n",
    "            line = line.strip('\\n')\n",
    "            caps = line.split(',')\n",
    "        states.close()\n",
    "        states_caps.append(caps)\n",
    "\n",
    "<br>\n",
    "\n",
    "b. The program should then randomly quiz the user by displaying the name of a state and asking the user to enter that state’s capital. \n",
    "<br>\n",
    "c. If they enter the wrong capital, print a message saying so, and make the user enter answer again until they get it correctly.\n",
    "<br>\n",
    "d. When they get it correctly, print a congratulations message and let them know how many guesses they have made.\n",
    "\n",
    "    Hint: For getting a key-value pair randomly from a dictionary, check the random.sample() function from the random module.\n",
    "\n"
   ]
  }
 ],
 "metadata": {
  "kernelspec": {
   "display_name": "Python 3",
   "language": "python",
   "name": "python3"
  },
  "language_info": {
   "codemirror_mode": {
    "name": "ipython",
    "version": 3
   },
   "file_extension": ".py",
   "mimetype": "text/x-python",
   "name": "python",
   "nbconvert_exporter": "python",
   "pygments_lexer": "ipython3",
   "version": "3.6.2"
  }
 },
 "nbformat": 4,
 "nbformat_minor": 2
}
