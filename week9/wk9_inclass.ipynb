{
 "cells": [
  {
   "cell_type": "markdown",
   "metadata": {},
   "source": [
    "# In-Class 9 on numpy arrays\n",
    "\n",
    "#### Due 11:59 pm, March 22\n",
    "- Submit on blackboard. \n",
    "- Add your name to this file name\n",
    "\n",
    "## Part A:\n",
    "    \n",
    "- Create two ndarrays of shape (2,3). \n",
    "- Fill it with numbers 0 to 5 and 6 to 11. \n",
    "- Print these two arrays.\n",
    "\n",
    "\n",
    "## Part B:\n",
    "- Create two ndarrays of shape (2×2) and fill it with random numbers. \n",
    "- Display the two arrays. \n",
    "- Calculate and display the dot product of the two arrays. \n",
    "- Calculate and display the element-wise sum of the two arrays.\n"
   ]
  }
 ],
 "metadata": {
  "kernelspec": {
   "display_name": "Python 3",
   "language": "python",
   "name": "python3"
  },
  "language_info": {
   "codemirror_mode": {
    "name": "ipython",
    "version": 3
   },
   "file_extension": ".py",
   "mimetype": "text/x-python",
   "name": "python",
   "nbconvert_exporter": "python",
   "pygments_lexer": "ipython3",
   "version": "3.6.2"
  }
 },
 "nbformat": 4,
 "nbformat_minor": 2
}
