{
 "cells": [
  {
   "cell_type": "markdown",
   "metadata": {},
   "source": [
    "# Week 9 Homework 2 on NumPy Arrays\n",
    "- Due Feb 28, 11:59 pm\n",
    "- Add your name to end of the file name, submit on blackboard.\n",
    "\n",
    "<br>\n",
    "\n",
    "### Instructions\n",
    "\n",
    "The AAPL.csv file on blackboard contains the opening prices (first column) and closing prices (second column) for each day during the past 3 months. Download the file, and use the code in the cell below to import the data into an array, and clean up the data within the array. Remember, the csv file should be in the same folder as this jupyter notebook for the code below to work. If not, you need to add the csv file's specific folder path to the code. Then, complete 10 steps below.\n",
    "\n",
    "1. write code using numpy package to output how many dimensions the aapl array has\n",
    "\n",
    "2. write code using numpy package to output the size of the aapl array\n",
    "\n",
    "3. write code using numpy package to output the shape of aapl array\n",
    "\n",
    "4. write code using numpy package to output the dtype of aapl array\n",
    "\n",
    "5. write code using **array slicing & iteration from numpy package** to show the opening prices for the first 10 days, in 2 decimal places format\n",
    "    - the output should start with a statement like below and present the 10 opening prices on each line after it:\n",
    "            The opening stock prices of Apple for the first 10 days during the past 3 months are:\n",
    "        \n",
    "6. write code using  **array slicing & iteration from numpy package** to show the closing prices for the last 10 days, in 2 decimal places format\n",
    "    - the output should start with a statement like below and present the 10 closing prices on each line after it:\n",
    "            The closing stock prices of Apple for the last 10 days during the past 3 months are:\n",
    "7. write code using numpy package to show the min, max, median, mean values for the opening prices of the stock\n",
    "8. write code using numpy package to show the min, max, median, mean values for the closing prices of the stock\n",
    "9. write code using numpy package to show the min price (between the closing & opening) for each day\n",
    "10. write code using numpy package to show the max price (between the closing & opening) for each day\n",
    "    ##### Outputs for 7-10 need to have some introductory statements for each value and present the values in 2 decimal places format\n",
    "\n"
   ]
  },
  {
   "cell_type": "code",
   "execution_count": 73,
   "metadata": {},
   "outputs": [],
   "source": [
    "import numpy as np\n",
    "aapl = np.genfromtxt('AAPL.csv',delimiter=',') # import data from csv file into a numpy array\n",
    "for i in range(len(aapl)-1):\n",
    "    aapl[i] = aapl[i+1] # remove the first row with nan values"
   ]
  }
 ],
 "metadata": {
  "kernelspec": {
   "display_name": "Python 3",
   "language": "python",
   "name": "python3"
  },
  "language_info": {
   "codemirror_mode": {
    "name": "ipython",
    "version": 3
   },
   "file_extension": ".py",
   "mimetype": "text/x-python",
   "name": "python",
   "nbconvert_exporter": "python",
   "pygments_lexer": "ipython3",
   "version": "3.6.2"
  }
 },
 "nbformat": 4,
 "nbformat_minor": 2
}
