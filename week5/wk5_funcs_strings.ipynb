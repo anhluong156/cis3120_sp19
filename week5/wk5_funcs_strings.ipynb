{
 "cells": [
  {
   "cell_type": "markdown",
   "metadata": {},
   "source": [
    "# Functions (Cont.), Strings"
   ]
  },
  {
   "cell_type": "markdown",
   "metadata": {
    "slideshow": {
     "slide_type": "fragment"
    }
   },
   "source": [
    "# Functions (Continued)"
   ]
  },
  {
   "cell_type": "markdown",
   "metadata": {},
   "source": [
    "## Review: \n",
    "- Defining a Function\n",
    "        def function_name():\n",
    "            statement\n",
    "            statement\n",
    "            etc.\n",
    "- Calling a Function\n",
    "        function_name()"
   ]
  },
  {
   "cell_type": "markdown",
   "metadata": {},
   "source": [
    "### Review: Void vs. Value-Returning (Fruitful) Functions\n",
    "\n",
    "##### Return values\n",
    "    - Single return statement\n",
    "    - Multiple return statements (one in each conditional branch)\n",
    "        + only one will be executed\n",
    "        + function ends after return statement executes\n",
    "\n",
    "#### Dead code:\n",
    "    - code following a return statement\n",
    "    - any code that the flow of execution can never reach\n"
   ]
  },
  {
   "cell_type": "markdown",
   "metadata": {},
   "source": [
    "## Review:\n",
    "- Parameters (when you write functions)\n",
    "- Arguments (when you call functions, you pass arguments into the function name)\n",
    "- Function header\n",
    "- Function body\n",
    "- docstring\n"
   ]
  },
  {
   "cell_type": "markdown",
   "metadata": {},
   "source": [
    "## Function types:\n",
    "\n",
    "- Functions with no parameter\n",
    "- Functions with single parameter\n",
    "- Functions with multiple parameters\n",
    "- Functions that return value(s)"
   ]
  },
  {
   "cell_type": "markdown",
   "metadata": {},
   "source": [
    "## Importing Modules"
   ]
  },
  {
   "cell_type": "code",
   "execution_count": 2,
   "metadata": {
    "scrolled": true
   },
   "outputs": [
    {
     "name": "stdout",
     "output_type": "stream",
     "text": [
      "<module 'math' from '/Users/anhluong/ENV/lib/python3.6/lib-dynload/math.cpython-36m-darwin.so'>\n"
     ]
    }
   ],
   "source": [
    "import math\n",
    "print(math)"
   ]
  },
  {
   "cell_type": "code",
   "execution_count": 3,
   "metadata": {
    "scrolled": true
   },
   "outputs": [
    {
     "name": "stdout",
     "output_type": "stream",
     "text": [
      "3.141592653589793\n"
     ]
    }
   ],
   "source": [
    "print(math.pi)"
   ]
  },
  {
   "cell_type": "code",
   "execution_count": 4,
   "metadata": {},
   "outputs": [
    {
     "ename": "NameError",
     "evalue": "name 'pi' is not defined",
     "output_type": "error",
     "traceback": [
      "\u001b[0;31m---------------------------------------------------------------------------\u001b[0m",
      "\u001b[0;31mNameError\u001b[0m                                 Traceback (most recent call last)",
      "\u001b[0;32m<ipython-input-4-9e2d2bd32686>\u001b[0m in \u001b[0;36m<module>\u001b[0;34m()\u001b[0m\n\u001b[0;32m----> 1\u001b[0;31m \u001b[0mprint\u001b[0m\u001b[0;34m(\u001b[0m\u001b[0mpi\u001b[0m\u001b[0;34m)\u001b[0m\u001b[0;34m\u001b[0m\u001b[0m\n\u001b[0m",
      "\u001b[0;31mNameError\u001b[0m: name 'pi' is not defined"
     ]
    }
   ],
   "source": [
    "print(pi)"
   ]
  },
  {
   "cell_type": "code",
   "execution_count": 6,
   "metadata": {},
   "outputs": [
    {
     "name": "stdout",
     "output_type": "stream",
     "text": [
      "3.141592653589793\n"
     ]
    }
   ],
   "source": [
    "from math import pi\n",
    "print(pi)"
   ]
  },
  {
   "cell_type": "code",
   "execution_count": 7,
   "metadata": {},
   "outputs": [],
   "source": [
    "from math import *"
   ]
  },
  {
   "cell_type": "markdown",
   "metadata": {},
   "source": [
    "## Generating Random Numbers"
   ]
  },
  {
   "cell_type": "code",
   "execution_count": 41,
   "metadata": {},
   "outputs": [
    {
     "data": {
      "text/plain": [
       "46"
      ]
     },
     "execution_count": 41,
     "metadata": {},
     "output_type": "execute_result"
    }
   ],
   "source": [
    "import random\n",
    "number = random.randint(1, 100)\n",
    "# randint function, from random module\n",
    "# randint function generates a random integer and returns that number\n",
    "# in this case, it generates a random int in the range of 1 to 100\n",
    "# 1 and 100 are the arguments passed into the function randint\n",
    "number"
   ]
  },
  {
   "cell_type": "code",
   "execution_count": 42,
   "metadata": {},
   "outputs": [],
   "source": [
    "?random.randint"
   ]
  },
  {
   "cell_type": "code",
   "execution_count": 62,
   "metadata": {},
   "outputs": [
    {
     "name": "stdout",
     "output_type": "stream",
     "text": [
      "61\n",
      "94\n",
      "30\n",
      "51\n",
      "64\n"
     ]
    }
   ],
   "source": [
    "# generating and returning 5 numbers, in range of 1 to 100\n",
    "for count in range(5):\n",
    "    print(random.randint(1,100))"
   ]
  },
  {
   "cell_type": "code",
   "execution_count": 47,
   "metadata": {},
   "outputs": [],
   "source": [
    "?random.randrange(10)\n",
    "# randrange specifies the ending limit - the number 10 is not included in the range\n"
   ]
  },
  {
   "cell_type": "code",
   "execution_count": 54,
   "metadata": {},
   "outputs": [
    {
     "data": {
      "text/plain": [
       "6"
      ]
     },
     "execution_count": 54,
     "metadata": {},
     "output_type": "execute_result"
    }
   ],
   "source": [
    "number = random.randrange(5,10)\n",
    "# returns a random number from 5 to 9 \n",
    "number"
   ]
  },
  {
   "cell_type": "code",
   "execution_count": 55,
   "metadata": {},
   "outputs": [
    {
     "data": {
      "text/plain": [
       "80"
      ]
     },
     "execution_count": 55,
     "metadata": {},
     "output_type": "execute_result"
    }
   ],
   "source": [
    "number = random.randrange(0, 101, 10)\n",
    "# 10 is the step value\n",
    "# the range of  numbers that can be generated is:\n",
    "# [0, 10, 20, 30, 40, 50, 60, 70, 80, 90, 100]\n",
    "number\n"
   ]
  },
  {
   "cell_type": "code",
   "execution_count": 57,
   "metadata": {},
   "outputs": [],
   "source": [
    "?random.random()\n",
    "# random.random() returns a random floating point number \n",
    "# from 0 up to 1.0 (not including 1.0)"
   ]
  },
  {
   "cell_type": "code",
   "execution_count": 60,
   "metadata": {
    "scrolled": true
   },
   "outputs": [
    {
     "data": {
      "text/plain": [
       "0.8394954025459991"
      ]
     },
     "execution_count": 60,
     "metadata": {},
     "output_type": "execute_result"
    }
   ],
   "source": [
    "number = random.random()\n",
    "number"
   ]
  },
  {
   "cell_type": "code",
   "execution_count": 61,
   "metadata": {},
   "outputs": [],
   "source": [
    "?random.uniform()\n",
    "# random.uniform() retrns a random floating-point number\n",
    "# but unlike random.random(), you can specify the range of values with this function"
   ]
  },
  {
   "cell_type": "code",
   "execution_count": 73,
   "metadata": {},
   "outputs": [
    {
     "data": {
      "text/plain": [
       "2.158273286986968"
      ]
     },
     "execution_count": 73,
     "metadata": {},
     "output_type": "execute_result"
    }
   ],
   "source": [
    "random.uniform(1, 10)\n",
    "# generates and returns a random float in the range of 1.0 through 10.0"
   ]
  },
  {
   "cell_type": "code",
   "execution_count": 94,
   "metadata": {},
   "outputs": [],
   "source": [
    "#random.seed()"
   ]
  },
  {
   "cell_type": "markdown",
   "metadata": {},
   "source": [
    "### Debugging\n",
    "- Correct Indentation: tabs/spaces\n",
    "- Local vs. Global var\n",
    "- Define variable/function first before calling it\n",
    "- For long programs:\n",
    "    + look at the rough middle of your program\n",
    "    + add and run a print statement for a variable in your program that you can check\n",
    "    + if the print statement causes an error ==> there is an error in the first half\n",
    "    + if no error ==> then the error is in the second half of program\n",
    "    + you lower the number of lines of code you have to check to search for the bug"
   ]
  },
  {
   "cell_type": "code",
   "execution_count": 30,
   "metadata": {},
   "outputs": [
    {
     "data": {
      "text/plain": [
       "100"
      ]
     },
     "execution_count": 30,
     "metadata": {},
     "output_type": "execute_result"
    }
   ],
   "source": [
    "# Square Function:\n",
    "\n",
    "def square(x):\n",
    "    y = x**2\n",
    "    return y\n",
    "    print('The square of', x, 'is', y)\n",
    "\n",
    "square(10)"
   ]
  },
  {
   "cell_type": "code",
   "execution_count": 33,
   "metadata": {},
   "outputs": [
    {
     "ename": "NameError",
     "evalue": "name 'y' is not defined",
     "output_type": "error",
     "traceback": [
      "\u001b[0;31m---------------------------------------------------------------------------\u001b[0m",
      "\u001b[0;31mNameError\u001b[0m                                 Traceback (most recent call last)",
      "\u001b[0;32m<ipython-input-33-ab692b91e6d2>\u001b[0m in \u001b[0;36m<module>\u001b[0;34m()\u001b[0m\n\u001b[1;32m      5\u001b[0m \u001b[0;34m\u001b[0m\u001b[0m\n\u001b[1;32m      6\u001b[0m \u001b[0mx\u001b[0m \u001b[0;34m=\u001b[0m \u001b[0;36m10\u001b[0m\u001b[0;34m\u001b[0m\u001b[0m\n\u001b[0;32m----> 7\u001b[0;31m \u001b[0mprint\u001b[0m\u001b[0;34m(\u001b[0m\u001b[0;34m'The square of'\u001b[0m\u001b[0;34m,\u001b[0m \u001b[0mx\u001b[0m\u001b[0;34m,\u001b[0m \u001b[0;34m'is'\u001b[0m\u001b[0;34m,\u001b[0m \u001b[0my\u001b[0m\u001b[0;34m)\u001b[0m\u001b[0;34m\u001b[0m\u001b[0m\n\u001b[0m",
      "\u001b[0;31mNameError\u001b[0m: name 'y' is not defined"
     ]
    }
   ],
   "source": [
    "# what's wrong in this code?\n",
    "def square(x):\n",
    "    y = x**2\n",
    "    return y\n",
    "    print('The square of', x, 'is', y)\n",
    "\n",
    "x = 10\n",
    "print('The square of', x, 'is', y)"
   ]
  },
  {
   "cell_type": "code",
   "execution_count": 34,
   "metadata": {
    "scrolled": true
   },
   "outputs": [
    {
     "ename": "NameError",
     "evalue": "name 'y' is not defined",
     "output_type": "error",
     "traceback": [
      "\u001b[0;31m---------------------------------------------------------------------------\u001b[0m",
      "\u001b[0;31mNameError\u001b[0m                                 Traceback (most recent call last)",
      "\u001b[0;32m<ipython-input-34-a0bcf3495f26>\u001b[0m in \u001b[0;36m<module>\u001b[0;34m()\u001b[0m\n\u001b[1;32m      6\u001b[0m \u001b[0;34m\u001b[0m\u001b[0m\n\u001b[1;32m      7\u001b[0m \u001b[0mx\u001b[0m \u001b[0;34m=\u001b[0m \u001b[0;36m10\u001b[0m\u001b[0;34m\u001b[0m\u001b[0m\n\u001b[0;32m----> 8\u001b[0;31m \u001b[0mprint\u001b[0m\u001b[0;34m(\u001b[0m\u001b[0;34m'The square of'\u001b[0m\u001b[0;34m,\u001b[0m \u001b[0mx\u001b[0m\u001b[0;34m,\u001b[0m \u001b[0;34m'is'\u001b[0m\u001b[0;34m,\u001b[0m \u001b[0my\u001b[0m\u001b[0;34m)\u001b[0m\u001b[0;34m\u001b[0m\u001b[0m\n\u001b[0m",
      "\u001b[0;31mNameError\u001b[0m: name 'y' is not defined"
     ]
    }
   ],
   "source": [
    "# modify the code below so that user can enter any number and the program will give the square of that number\n",
    "def square(x):\n",
    "    y = x**2\n",
    "    return y\n",
    "    print('The square of', x, 'is', y)\n",
    "\n",
    "x = 10\n",
    "print('The square of', x, 'is', y)"
   ]
  },
  {
   "cell_type": "code",
   "execution_count": 8,
   "metadata": {},
   "outputs": [
    {
     "name": "stdout",
     "output_type": "stream",
     "text": [
      "I have a message for you.\n",
      "I am Arthur,\n",
      "King of the Britons.\n",
      "Goodbye!\n"
     ]
    }
   ],
   "source": [
    "#is this a fruitful function?\n",
    "\n",
    "def message():\n",
    "    print('I am Arthur,')\n",
    "    print('King of the Britons.')\n",
    "    \n",
    "def main():\n",
    "    print('I have a message for you.')\n",
    "    message()\n",
    "    print('Goodbye!')\n",
    "\n",
    "# Call the main function.\n",
    "main()"
   ]
  },
  {
   "cell_type": "markdown",
   "metadata": {},
   "source": [
    "### Spot the error:\n",
    "\n",
    "`def abs_value(x):\n",
    "    if x < 0:\n",
    "        return -x\n",
    "    if x > 0:\n",
    "        return x`\n",
    "        \n",
    "        "
   ]
  },
  {
   "cell_type": "markdown",
   "metadata": {},
   "source": [
    "### Incremental Development:\n",
    "\n",
    "- Add and Test a small amount of code at a time\n",
    "- Helps preventing long debugging sessons\n",
    "        \n",
    "        "
   ]
  },
  {
   "cell_type": "markdown",
   "metadata": {},
   "source": [
    "#### Composition"
   ]
  },
  {
   "cell_type": "code",
   "execution_count": 12,
   "metadata": {},
   "outputs": [],
   "source": [
    "def circle_area(xc, yc, xp, yp):\n",
    "    radius = distance(xc, yc, xp, yp)\n",
    "    result = area(radius)\n",
    "    return result\n",
    "\n"
   ]
  },
  {
   "cell_type": "code",
   "execution_count": 13,
   "metadata": {},
   "outputs": [],
   "source": [
    "def circle_area(xc, yc, xp, yp):\n",
    "    return area(distance(xc, yc, xp, yp))\n"
   ]
  },
  {
   "cell_type": "markdown",
   "metadata": {},
   "source": [
    "## Using main function:\n",
    "\n",
    "https://interactivepython.org/courselib/static/thinkcspy/Functions/mainfunction.html\n",
    "    - Not required in Python, but it's a good idea to use it\n",
    "    - In many programming languages (e.g. Java and C++), it is not possible to simply have statements sitting alone at the bottom of the program. They are required to be part of a special function that is automatically invoked by the operating system when the program is executed, called main.\n",
    "    - In other words, the lines in the main() function in the example above are logically related to one another in that they provide the main tasks that the program will perform. Since functions are designed to allow us to break up a program into logical pieces, it makes sense to call this piece main.\n",
    "    - In Python there is nothing special about the name main. We could have called this function anything we wanted. We chose main just to be consistent with some of the other languages.\n"
   ]
  },
  {
   "cell_type": "markdown",
   "metadata": {},
   "source": [
    "### Boolean Functions\n",
    "- returns either True or False"
   ]
  },
  {
   "cell_type": "code",
   "execution_count": 17,
   "metadata": {},
   "outputs": [
    {
     "data": {
      "text/plain": [
       "False"
      ]
     },
     "execution_count": 17,
     "metadata": {},
     "output_type": "execute_result"
    }
   ],
   "source": [
    "# check if a number is divisible by another number\n",
    "def is_divisible(x, y):\n",
    "    if x % y == 0:\n",
    "        return True\n",
    "    else:\n",
    "         return False\n",
    "        \n",
    "is_divisible(3, 4)"
   ]
  },
  {
   "cell_type": "code",
   "execution_count": 18,
   "metadata": {},
   "outputs": [
    {
     "data": {
      "text/plain": [
       "False"
      ]
     },
     "execution_count": 18,
     "metadata": {},
     "output_type": "execute_result"
    }
   ],
   "source": [
    "# more precisely\n",
    "def is_divisible(x, y):\n",
    "    return x % y == 0\n",
    "\n",
    "is_divisible(3, 4)"
   ]
  },
  {
   "cell_type": "code",
   "execution_count": 21,
   "metadata": {},
   "outputs": [
    {
     "name": "stdout",
     "output_type": "stream",
     "text": [
      "3 is not divisible by 4\n"
     ]
    }
   ],
   "source": [
    "# use Boolean functions inside conditionals:\n",
    "\n",
    "if is_divisible(3, 4): \n",
    "    print('3 is divisible by 4')\n",
    "else:\n",
    "    print('3 is not divisible by 4')"
   ]
  },
  {
   "cell_type": "markdown",
   "metadata": {},
   "source": [
    "## In Class Exercises - Functions\n",
    "\n",
    "1. Future Value\n",
    "\n",
    "Suppose you have a certain amount of money in a savings account that earns compound monthly interest, and you want to calculate the amount that you will have after a specific number of months. The formula is as follows:\n",
    "F = P x (1 + i)^t\n",
    "\n",
    "    The terms in the formula are:\n",
    "       - F is the future value of the account after the specified time period.\n",
    "       - P is the present value of the account.\n",
    "       - i is the monthly interest rate.\n",
    "       - t is the number of months.\n",
    "       \n",
    "Write a program that prompts the user to enter the account’s present value, monthly interest rate, and the number of months that the money will be left in the account. The program should pass these values to a function that returns the future value of the account, after the specified number of months. The program should display the account’s future value.\n",
    "\n",
    "(important: monthly interest rate number format - needs validation loop)\n",
    "\n",
    "2. Random number Guessing Game\n",
    "\n",
    "    Write a program that generates a random number in the range of 1 through 10, and asks the user to guess what the number is. If the user’s guess is higher than the random number, the program should display “Too high, try again.” If the user’s guess is lower than the random number, the program should display “Too low, try again.” If the user guesses the number, the application should congratulate the user and then generate a new random number so the game can start over. Ask the user if they want to end the game or play a new round before starting over.\n",
    "\n",
    "    Enhancement: Enhance the game so it keeps count of the number of guesses that the user makes. When the user correctly guesses the random number, the program should display the number of guesses.\n",
    "\n",
    "3. Rock, paper, scissors Game\n",
    "\n",
    "    Write a program that lets the user play the game of Rock, Paper, Scissors against the com- puter. The program should work as follows:\n",
    "    - When the program begins, a random number in the range of 1 through 3 is generated. If the number is 1, then the computer has chosen rock. If the number is 2, then the computer has chosen paper. If the number is 3, then the computer has chosen scissors. (Don’t display the computer’s choice yet.)\n",
    "    - The user enters his or her choice of “rock,” “paper,” or “scissors” at the keyboard.\n",
    "    - The computer’s choice is displayed.\n",
    "    - A winner is selected according to the following rules:\n",
    "        - If one player chooses rock and the other player chooses scissors, then rock wins. (The rock smashes the scissors.)\n",
    "        - If one player chooses scissors and the other player chooses paper, then scissors wins. (Scissors cuts paper.)\n",
    "        - If one player chooses paper and the other player chooses rock, then paper wins. (Paper wraps rock.)\n",
    "        - If both players make the same choice, the game must be played again to determine the winner.\n",
    "        \n",
    "        \n",
    " 4. Odd/even Counter\n",
    " \n",
    "    In this chapter, you saw an example of how to write an algorithm that determines whether a number is even or odd. Write a program that generates 100 random numbers (you choose the range) and keeps a count of how many of those random numbers are even and how many of them are odd."
   ]
  },
  {
   "cell_type": "markdown",
   "metadata": {},
   "source": [
    "# Strings"
   ]
  },
  {
   "cell_type": "markdown",
   "metadata": {},
   "source": [
    "### Outline:\n",
    "    A string is a sequence\n",
    "    Strings are Immutable\n",
    "    Indexing Strings\n",
    "    Traversing Strings\n",
    "    Slicing Strings\n",
    "    String Methods\n",
    "    Parsing Strings"
   ]
  },
  {
   "cell_type": "code",
   "execution_count": 13,
   "metadata": {},
   "outputs": [
    {
     "name": "stdout",
     "output_type": "stream",
     "text": [
      "o\n"
     ]
    }
   ],
   "source": [
    "## Strings: A sequence of characters\n",
    "## indexing strings - to access individual characters in a string\n",
    "s='hello'\n",
    "mp='monty python'\n",
    "si=s[1]\n",
    "#print(si)\n",
    "#print(s[5])\n",
    "\n",
    "print(s[-1])\n",
    "# len function\n",
    "# index error "
   ]
  },
  {
   "cell_type": "markdown",
   "metadata": {},
   "source": [
    "###### String Indexing\n",
    "<img src=\"https://developers.google.com/edu/python/images/hello.png\">\n",
    "<font size=-2>\n",
    "<p  style=\"text-align:right\">&copy; Google</p>\n",
    "</font>"
   ]
  },
  {
   "cell_type": "code",
   "execution_count": 78,
   "metadata": {},
   "outputs": [
    {
     "name": "stdout",
     "output_type": "stream",
     "text": [
      "T\n",
      "Timothy\n"
     ]
    }
   ],
   "source": [
    "# Immutability of Strings\n",
    "name='Tim'\n",
    "print(name[0])\n",
    "#name[0]='J' => wouldnt work cause strings are immutable\n",
    "name += 'othy'  # can work  - strings can be modified by adding more letters to them \n",
    "print (name)"
   ]
  },
  {
   "cell_type": "markdown",
   "metadata": {},
   "source": [
    "###### Traversing Strings\n",
    "Traversing simply involves examining the string to process one character at a time. Typically, we start from the beginning, select each character, process it, and then repeat this process until the desired end point. <br>\n",
    "\n",
    "Exercise: <br>\n",
    "Traverse the String and print the individual characters in a string.<br>\n",
    "Ask the user to enter a number and then print the total of the individual digits.  If the user enters 1234, the program would print 10 (i.e. the sum of 1+2+3+4)<br>\n"
   ]
  },
  {
   "cell_type": "code",
   "execution_count": 79,
   "metadata": {},
   "outputs": [
    {
     "name": "stdout",
     "output_type": "stream",
     "text": [
      "<class 'str'>\n",
      "0 s\n",
      "1 t\n",
      "2 a\n",
      "3 r\n",
      "4 b\n",
      "5 u\n",
      "6 c\n",
      "7 k\n",
      "8 s\n"
     ]
    }
   ],
   "source": [
    "coffee='starbucks'\n",
    "print(type(coffee))\n",
    "num = 0\n",
    "while num < len(coffee):\n",
    "    letter = coffee[num]\n",
    "    print (num, letter)\n",
    "    num += 1"
   ]
  },
  {
   "cell_type": "code",
   "execution_count": 81,
   "metadata": {},
   "outputs": [
    {
     "name": "stdout",
     "output_type": "stream",
     "text": [
      "s\n",
      "t\n",
      "a\n",
      "r\n",
      "b\n",
      "u\n",
      "c\n",
      "k\n",
      "s\n"
     ]
    }
   ],
   "source": [
    "for letter in coffee:\n",
    "    print (letter)"
   ]
  },
  {
   "cell_type": "markdown",
   "metadata": {},
   "source": [
    "##### String Slicing\n",
    "<img src=\"http://www.nltk.org/images/string-slicing.png\">\n",
    "<font size=-2>\n",
    "<p  style=\"text-align:right\">&copy; nltk</p>\n",
    "</font>"
   ]
  },
  {
   "cell_type": "code",
   "execution_count": 21,
   "metadata": {},
   "outputs": [
    {
     "name": "stdout",
     "output_type": "stream",
     "text": [
      "monty\n"
     ]
    }
   ],
   "source": [
    "# String Slicing - sequence of characters taken from the string\n",
    "# Format string[start:end:step]; please note end is upto but not including...\n",
    "# workaround for invalid indexes; see book chaper for more details\n",
    "\n",
    "# s[0:5]    s[0:5:2]  s[0:]  s[:5]  s[-3:-1]\n",
    "# s[:2]   +  s[2:] = ?\n",
    "\n",
    "s='hello'\n",
    "mp='monty python'\n",
    "sliced=mp[-12:-7]\n",
    "print (sliced)"
   ]
  },
  {
   "cell_type": "code",
   "execution_count": 83,
   "metadata": {},
   "outputs": [
    {
     "name": "stdout",
     "output_type": "stream",
     "text": [
      "ramming\n",
      "pr\n"
     ]
    }
   ],
   "source": [
    "name=\"programming\"\n",
    "print(name[4:])\n",
    "print(name[:2])"
   ]
  },
  {
   "cell_type": "code",
   "execution_count": 84,
   "metadata": {},
   "outputs": [
    {
     "name": "stdout",
     "output_type": "stream",
     "text": [
      "hello\n",
      "hello\n",
      "hello\n",
      "hello\n",
      "hello\n"
     ]
    }
   ],
   "source": [
    "for n in range(5):\n",
    "    sliced=s[:n]+s[n:]\n",
    "    print (sliced)"
   ]
  },
  {
   "cell_type": "code",
   "execution_count": 85,
   "metadata": {},
   "outputs": [
    {
     "name": "stdout",
     "output_type": "stream",
     "text": [
      "sub-string not found in text\n"
     ]
    }
   ],
   "source": [
    "# testing string with 'in' or 'not in' operators\n",
    "\n",
    "text='hello, are you there?'\n",
    "sliced='hllo'\n",
    "if (sliced in text):\n",
    "    print ('sub-string found in text')\n",
    "else:\n",
    "    print ('sub-string not found in text')"
   ]
  },
  {
   "cell_type": "markdown",
   "metadata": {},
   "source": [
    "### String Methods\n",
    "Method is a function that belongs to an object and performs some operations on that object.  String objects in python have numerous methods to perform specific operations on the string. The general format is\n",
    "    <font color = 'red'>stringvariable.method(argument) </font><br>\n",
    "\n",
    "See below for a some useful examples.<br>"
   ]
  },
  {
   "cell_type": "code",
   "execution_count": 22,
   "metadata": {},
   "outputs": [
    {
     "name": "stdout",
     "output_type": "stream",
     "text": [
      "True\n",
      "True\n"
     ]
    }
   ],
   "source": [
    "# string testing methods\n",
    "# isalnum(), isalpha(), isdigit(),islower(), isupper(), isspace()\n",
    "# returns true if condition is satisfied and is at least one character in length.\n",
    "\n",
    "ts=\"1234\"\n",
    "bv=ts.isdigit()\n",
    "print(bv)\n",
    "\n",
    "mp='monty python'\n",
    "test=mp.islower()\n",
    "print(test)"
   ]
  },
  {
   "cell_type": "code",
   "execution_count": 87,
   "metadata": {},
   "outputs": [
    {
     "name": "stdout",
     "output_type": "stream",
     "text": [
      "Enter a number: 3\n",
      "3 <class 'str'>\n",
      "Total is: 3\n"
     ]
    }
   ],
   "source": [
    "# using string methods to perform an operation on a string\n",
    "# Summing the digits of number\n",
    "num=input('Enter a number: ')\n",
    "total=0\n",
    "if num.isdigit():\n",
    "    for digit in num:\n",
    "        print (digit, type(digit))\n",
    "        total+=int(digit)\n",
    "    print ('Total is:', total)\n",
    "else:\n",
    "    print('Please enter a valid number')"
   ]
  },
  {
   "cell_type": "code",
   "execution_count": null,
   "metadata": {},
   "outputs": [],
   "source": [
    "# string modification methods\n",
    "# split(), replace(old, new)\n",
    "\n",
    "mp='monty python'\n",
    "print (mp.split())    # returns a list... more on lists in the next module\n",
    "print (mp.split('p'))\n",
    "newStr=mp.replace('py', 'cy')\n",
    "print(mp)\n",
    "print(newStr)"
   ]
  },
  {
   "cell_type": "code",
   "execution_count": 88,
   "metadata": {},
   "outputs": [
    {
     "name": "stdout",
     "output_type": "stream",
     "text": [
      "  hello world   15\n",
      "hello world 11\n"
     ]
    }
   ],
   "source": [
    "# strip(), lstrip(), rstrip()\n",
    "\n",
    "mystr='  hello world  '\n",
    "mystr1=mystr.strip()\n",
    "print (mystr, len(mystr)) \n",
    "print (mystr1, len(mystr1))"
   ]
  },
  {
   "cell_type": "code",
   "execution_count": 89,
   "metadata": {},
   "outputs": [
    {
     "name": "stdout",
     "output_type": "stream",
     "text": [
      "True\n",
      "False\n",
      "6\n"
     ]
    }
   ],
   "source": [
    "# more string methods\n",
    "# startswith(substring), endswith(substring), find(substring)\n",
    "\n",
    "test=mp.endswith('thon')  # returns boolean value\n",
    "print (test)\n",
    "\n",
    "test=mp.startswith('mty')  # returns boolean value\n",
    "print (test)\n",
    "\n",
    "test=mp.find('python') # method returns lowest index in the string if substring is found \n",
    "print (test)           # replace python with 'mnty'; method returns -1 if substring is not found"
   ]
  },
  {
   "cell_type": "code",
   "execution_count": 91,
   "metadata": {},
   "outputs": [
    {
     "name": "stdout",
     "output_type": "stream",
     "text": [
      "11\n",
      "nanda.kumar\n",
      "5\n",
      "\n"
     ]
    }
   ],
   "source": [
    "email='nanda.kumar@outlook.com'\n",
    "ipos=email.find('@')\n",
    "print (ipos);\n",
    "userid=email[:ipos]\n",
    "print (userid)\n",
    "ipos2=email.find('.')\n",
    "print (ipos2)\n",
    "domain=email[(ipos+1):ipos2]\n",
    "print (domain)\n",
    "# potential errors and correction (userid-dot, if userid-dot rewrite, missing-@)?"
   ]
  },
  {
   "cell_type": "markdown",
   "metadata": {},
   "source": [
    "Exercise: Please write a program to ask the user to input an email (for example: nk999@domainname.com) and then separate the userid from the email and print it.  In the example above, the print output would be nk999.\n"
   ]
  },
  {
   "cell_type": "code",
   "execution_count": 92,
   "metadata": {},
   "outputs": [
    {
     "name": "stdout",
     "output_type": "stream",
     "text": [
      "outlook.com\n",
      "7\n",
      "outlook\n"
     ]
    }
   ],
   "source": [
    "# Program to print domain name from email.  In the above example (nk999@domainname.com), the output should be domainname \n",
    "\n",
    "email='nandakumar@outlook.com'\n",
    "ipos=email.find('@')\n",
    "domain=email[(ipos+1):]\n",
    "print (domain)\n",
    "ipos2=domain.find('.')\n",
    "print (ipos2)\n",
    "domain2=domain[:ipos2]\n",
    "print (domain2)"
   ]
  },
  {
   "cell_type": "code",
   "execution_count": 93,
   "metadata": {},
   "outputs": [
    {
     "name": "stdout",
     "output_type": "stream",
     "text": [
      "6\n",
      "valid\n"
     ]
    }
   ],
   "source": [
    "# Input Validation\n",
    "\n",
    "email='nk1000@outlook.com'\n",
    "ipos=email.find('@')\n",
    "print (ipos); \n",
    "if (ipos==-1):\n",
    "    print ('invalid email')\n",
    "else:\n",
    "    print ('valid')"
   ]
  },
  {
   "cell_type": "markdown",
   "metadata": {},
   "source": [
    "## In Class Excercises - Strings\n",
    "1. Initials\n",
    "\n",
    "Write a program that gets a string containing a person’s first, middle, and last names, and then display their first, middle, and last initials. For example, if the user enters John William Smith the program should display J. W. S.\n",
    "\n",
    "2. Date printer\n",
    "\n",
    "Write a program that reads a string from the user containing a date in the form mm/dd/ yyyy. It should print the date in the form March 12, 2014.\n",
    "\n",
    "3. Sentence Capitalizer\n",
    "\n",
    "Write a program with a function that accepts a string as an argument and returns a copy of the string with the first character of each sentence capitalized. For instance, if the argument is “hello. my name is Joe. what is your name?” the function should return the string “Hello. My name is Joe. What is your name?” The program should let the user enter a string and then pass it to the function. The modified string should be displayed.\n",
    "\n",
    "4. Word Separator\n",
    "\n",
    "Write a program that accepts as input a sentence in which all of the words are run together but the first character of each word is uppercase. Convert the sentence to a string in which the words are separated by spaces and only the first word starts with an uppercase letter. For example the string “StopAndSmellTheRoses.” would be converted to “Stop and smell the roses.”\n",
    "\n",
    "5. Pig Latin\n",
    "\n",
    "Write a program that accepts a sentence as input and converts each word to “Pig Latin.” In one version, to convert a word to Pig Latin you remove the first letter and place that letter at the end of the word. Then you append the string “ay” to the word. Here is an example:\n",
    "\n",
    "English: I SLEPT MOST OF THE NIGHT\n",
    "\n",
    "Pig Latin: IAY LEPTSAY OSTMAY FOAY HETAY IGHTNAY\n",
    "\n",
    "6. Caesar Cipher\n",
    "\n",
    "A \"Caesar Cipher is a simple way of encrypting a message by replacing each letter with a letter a certain number of spaces up the alphabet. For example, if shifting the message by 13 an A would become an N, while an S would wrap around to the start of the alphabet to become an F\n",
    "\n",
    "Write a program that asks the user for a message (a string) and a shift amount (an integer). The values should be passed to a function that accepts the string and the integer as arguments, and returns a string that represents the original message but encrypted, by shifting the letters by the integer.\n",
    "\n",
    "For example, a string of \"BEWARE THE IDES OF MARCH\" and an integer of 13 should result in a string of \"ORJNER GUR VQRF BS ZNEPU\"."
   ]
  }
 ],
 "metadata": {
  "kernelspec": {
   "display_name": "Python 3",
   "language": "python",
   "name": "python3"
  },
  "language_info": {
   "codemirror_mode": {
    "name": "ipython",
    "version": 3
   },
   "file_extension": ".py",
   "mimetype": "text/x-python",
   "name": "python",
   "nbconvert_exporter": "python",
   "pygments_lexer": "ipython3",
   "version": "3.6.2"
  }
 },
 "nbformat": 4,
 "nbformat_minor": 2
}
