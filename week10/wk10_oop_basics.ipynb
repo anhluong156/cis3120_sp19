{
 "cells": [
  {
   "cell_type": "code",
   "execution_count": null,
   "metadata": {
    "collapsed": true
   },
   "outputs": [],
   "source": [
    "import random\n",
    "\n",
    "class Coin:\n",
    "    \n",
    "    def __init__(self):\n",
    "        if random.randint(0,1)==0:\n",
    "            self.sideUp='Heads'\n",
    "        else:\n",
    "            self.sideUp='Tails'\n",
    "    \n",
    "    def toss(self):\n",
    "        if random.randint(0,1)==0:\n",
    "            self.sideUp='Heads'\n",
    "        else:\n",
    "            self.sideUp='Tails'\n",
    "    \n",
    "    def get_sideUp(self):\n",
    "        return self.sideUp\n",
    "\n",
    "def main():\n",
    "    myCoin=Coin()\n",
    "    print(myCoin.get_sideUp(),' is the side up when we started')\n",
    "    print('now tossing...')   \n",
    "    myCoin.toss()\n",
    "    print(myCoin.get_sideUp(),' is the side up after the toss')\n",
    "    \n",
    "main()"
   ]
  },
  {
   "cell_type": "code",
   "execution_count": null,
   "metadata": {
    "collapsed": true
   },
   "outputs": [],
   "source": [
    "import random\n",
    "\n",
    "class Coin:\n",
    "    def __init__(self):\n",
    "        if random.randint(0,1)==0:\n",
    "            self.sideUp='Heads'\n",
    "        else:\n",
    "            self.sideUp='Tails'\n",
    "    \n",
    "    def toss(self):\n",
    "        if random.randint(0,1)==0:\n",
    "            self.sideUp='Heads'\n",
    "        else:\n",
    "            self.sideUp='Tails'\n",
    "    \n",
    "    def get_sideUp(self):\n",
    "        return self.sideUp\n",
    "    \n",
    "def main():\n",
    "    myCoin=Coin()\n",
    "    print(myCoin.get_sideUp(),' is the side up when we start')\n",
    "    print('now tossing...')   \n",
    "    myCoin.toss()\n",
    "    myCoin.sideUp='My side'\n",
    "    print(myCoin.sideUp,' is the side up after the toss')\n",
    "\n",
    "main()"
   ]
  },
  {
   "cell_type": "code",
   "execution_count": 1,
   "metadata": {},
   "outputs": [
    {
     "name": "stdout",
     "output_type": "stream",
     "text": [
      "Tails  is the side up\n",
      "now tossing...\n"
     ]
    },
    {
     "ename": "AttributeError",
     "evalue": "'Coin' object has no attribute '__sideUp'",
     "output_type": "error",
     "traceback": [
      "\u001b[1;31m---------------------------------------------------------------------------\u001b[0m",
      "\u001b[1;31mAttributeError\u001b[0m                            Traceback (most recent call last)",
      "\u001b[1;32m<ipython-input-1-207fbe7744ee>\u001b[0m in \u001b[0;36m<module>\u001b[1;34m()\u001b[0m\n\u001b[0;32m     25\u001b[0m \u001b[1;33m\u001b[0m\u001b[0m\n\u001b[0;32m     26\u001b[0m \u001b[1;33m\u001b[0m\u001b[0m\n\u001b[1;32m---> 27\u001b[1;33m \u001b[0mmain\u001b[0m\u001b[1;33m(\u001b[0m\u001b[1;33m)\u001b[0m\u001b[1;33m\u001b[0m\u001b[0m\n\u001b[0m",
      "\u001b[1;32m<ipython-input-1-207fbe7744ee>\u001b[0m in \u001b[0;36mmain\u001b[1;34m()\u001b[0m\n\u001b[0;32m     22\u001b[0m     \u001b[0mprint\u001b[0m\u001b[1;33m(\u001b[0m\u001b[1;34m'now tossing...'\u001b[0m\u001b[1;33m)\u001b[0m\u001b[1;33m\u001b[0m\u001b[0m\n\u001b[0;32m     23\u001b[0m     \u001b[0mmyCoin\u001b[0m\u001b[1;33m.\u001b[0m\u001b[0mtoss\u001b[0m\u001b[1;33m(\u001b[0m\u001b[1;33m)\u001b[0m\u001b[1;33m\u001b[0m\u001b[0m\n\u001b[1;32m---> 24\u001b[1;33m     \u001b[0mprint\u001b[0m\u001b[1;33m(\u001b[0m\u001b[0mmyCoin\u001b[0m\u001b[1;33m.\u001b[0m\u001b[0m__sideUp\u001b[0m\u001b[1;33m(\u001b[0m\u001b[1;33m)\u001b[0m\u001b[1;33m,\u001b[0m\u001b[1;34m' is the side up'\u001b[0m\u001b[1;33m)\u001b[0m\u001b[1;33m\u001b[0m\u001b[0m\n\u001b[0m\u001b[0;32m     25\u001b[0m \u001b[1;33m\u001b[0m\u001b[0m\n\u001b[0;32m     26\u001b[0m \u001b[1;33m\u001b[0m\u001b[0m\n",
      "\u001b[1;31mAttributeError\u001b[0m: 'Coin' object has no attribute '__sideUp'"
     ]
    }
   ],
   "source": [
    "import random\n",
    "\n",
    "class Coin:\n",
    "    def __init__(self):\n",
    "        if random.randint(0,1)==0:\n",
    "            self.__sideUp='Heads'\n",
    "        else:\n",
    "            self.__sideUp='Tails'\n",
    "    \n",
    "    def toss(self):\n",
    "        if random.randint(0,1)==0:\n",
    "            self.__sideUp='Heads'\n",
    "        else:\n",
    "            self.__sideUp='Tails'\n",
    "    \n",
    "    def get_sideUp(self):\n",
    "        return self.__sideUp\n",
    "    \n",
    "def main():\n",
    "    myCoin=Coin()\n",
    "    print(myCoin.get_sideUp(),' is the side up')\n",
    "    print('now tossing...')   \n",
    "    myCoin.toss()\n",
    "    print(myCoin.__sideUp(),' is the side up')\n",
    "\n",
    "main()"
   ]
  },
  {
   "cell_type": "code",
   "execution_count": 5,
   "metadata": {},
   "outputs": [
    {
     "name": "stdout",
     "output_type": "stream",
     "text": [
      "Heads  is the side up\n",
      "now tossing...\n",
      "<__main__.Coin object at 0x00000254EF2AE5F8>\n"
     ]
    }
   ],
   "source": [
    "import random\n",
    "\n",
    "class Coin:\n",
    "    def __init__(self):\n",
    "        if random.randint(0,1)==0:\n",
    "            self.__sideUp='Heads'\n",
    "        else:\n",
    "            self.__sideUp='Tails'\n",
    "\n",
    "    \n",
    "    def toss(self):\n",
    "        if random.randint(0,1)==0:\n",
    "            self.__sideUp='Heads'\n",
    "        else:\n",
    "            self.__sideUp='Tails'\n",
    "        \n",
    "\n",
    "    \n",
    "    def get_sideUp(self):\n",
    "        return self.__sideUp\n",
    "    \n",
    "    def __str__(self):\n",
    "        return 'The current state is: '+ self.__sideUp + ' is up now'\n",
    "    \n",
    "def main():\n",
    "    myCoin=Coin()\n",
    "    print(myCoin.get_sideUp(),' is the side up')\n",
    "    print('now tossing...')   \n",
    "    myCoin.toss()\n",
    "\n",
    "    print(myCoin)\n",
    "    \n",
    "main()"
   ]
  },
  {
   "cell_type": "code",
   "execution_count": 2,
   "metadata": {},
   "outputs": [
    {
     "name": "stdout",
     "output_type": "stream",
     "text": [
      "Enter make: Honda\n",
      "Enter model: Accord\n",
      "Enter year: 2011\n",
      "Would you like to add more? y\n",
      "Enter make: Toyota\n",
      "Enter model: Corolla\n",
      "Enter year: 2001\n",
      "Would you like to add more? y\n",
      "Enter make: Oldsmobile\n",
      "Enter model: Cutlass\n",
      "Enter year: 1999\n",
      "Would you like to add more? n\n"
     ]
    }
   ],
   "source": [
    "class Car:\n",
    "    def __init__(self,make,model,year):\n",
    "        self.__make=make\n",
    "        self.__model=model\n",
    "        self.__year=year\n",
    "        \n",
    "    def get_make(self):\n",
    "        return self.__make\n",
    "    \n",
    "    def get_model(self):\n",
    "        return self.__model\n",
    "    \n",
    "    def get_year(self):\n",
    "        return self.__year\n",
    "    \n",
    "    def set_make(self,make):\n",
    "        self.__make=make\n",
    "        \n",
    "    def set_model(self, model):\n",
    "        self.__model=model\n",
    "        \n",
    "    def set_year(self, year):\n",
    "        self.__year=year\n",
    "        \n",
    "    def __str__(self):\n",
    "        return 'make: ' + self.__make + '\\nmodel: ' + self.__model + '\\nyear: ' + self.__year\n",
    "\n",
    "import pickle \n",
    "\n",
    "def main():\n",
    "    choice='y'\n",
    "    dcCar={}\n",
    "    carFile=open('Cars.dat','wb')\n",
    "    while choice=='y':\n",
    "        make=input('Enter make: ')\n",
    "        model=input('Enter model: ')\n",
    "        year=input('Enter year: ')\n",
    "        myCar=Car(make,model,year)\n",
    "        dcCar[make]=myCar\n",
    "    \n",
    "        choice=input('Would you like to add more? ')\n",
    "    pickle.dump(dcCar,carFile)\n",
    "    carFile.close()\n",
    "    \n",
    "main()\n",
    "        "
   ]
  },
  {
   "cell_type": "code",
   "execution_count": 3,
   "metadata": {},
   "outputs": [
    {
     "name": "stdout",
     "output_type": "stream",
     "text": [
      "{'Honda': <__main__.Car object at 0x00000254EF2AE048>, 'Toyota': <__main__.Car object at 0x00000254EF2AE128>, 'Oldsmobile': <__main__.Car object at 0x00000254EF2AE1D0>}\n",
      "value -  make: Honda\n",
      "model: Accord\n",
      "year: 2011\n",
      "Make:\t Honda\n",
      "Model:\t Accord\n",
      "Year:\t 2011\n",
      "\n",
      "value -  make: Toyota\n",
      "model: Corolla\n",
      "year: 2001\n",
      "Make:\t Toyota\n",
      "Model:\t Corolla\n",
      "Year:\t 2001\n",
      "\n",
      "value -  make: Oldsmobile\n",
      "model: Cutlass\n",
      "year: 1999\n",
      "Make:\t Oldsmobile\n",
      "Model:\t Cutlass\n",
      "Year:\t 1999\n",
      "\n"
     ]
    }
   ],
   "source": [
    "def readCarFile():\n",
    "    fob=open('Cars.dat','rb')\n",
    "\n",
    "    dc=pickle.load(fob)\n",
    "    print(dc)\n",
    "    for key, value in dc.items():\n",
    "        print('value - ',value)\n",
    "        print('Make:\\t', value.get_make())\n",
    "        print('Model:\\t',value.get_model())\n",
    "        print('Year:\\t',value.get_year())\n",
    "        print()\n",
    "\n",
    "    \n",
    "    fob.close()\n",
    "\n",
    "readCarFile()"
   ]
  },
  {
   "cell_type": "code",
   "execution_count": 4,
   "metadata": {},
   "outputs": [
    {
     "name": "stdout",
     "output_type": "stream",
     "text": [
      "Enter make to find: Honda\n",
      "Model:\t Accord\n",
      "Year:\t 2011\n"
     ]
    }
   ],
   "source": [
    "def getCarData():\n",
    "    \n",
    "    fob=open('Cars.dat','rb')\n",
    "    make=input('Enter make to find: ')\n",
    "    \n",
    "    dc=pickle.load(fob)\n",
    "    myCar=dc.get(make,0)\n",
    "    if isinstance(myCar,Car):\n",
    "        print('Model:\\t',myCar.get_model())\n",
    "        print('Year:\\t',myCar.get_year())\n",
    "    else:\n",
    "        print('Not found')\n",
    "    fob.close()\n",
    "\n",
    "getCarData()"
   ]
  },
  {
   "cell_type": "code",
   "execution_count": null,
   "metadata": {
    "collapsed": true
   },
   "outputs": [],
   "source": [
    "%reset"
   ]
  }
 ],
 "metadata": {
  "kernelspec": {
   "display_name": "Python 3",
   "language": "python",
   "name": "python3"
  },
  "language_info": {
   "codemirror_mode": {
    "name": "ipython",
    "version": 3
   },
   "file_extension": ".py",
   "mimetype": "text/x-python",
   "name": "python",
   "nbconvert_exporter": "python",
   "pygments_lexer": "ipython3",
   "version": "3.6.2"
  }
 },
 "nbformat": 4,
 "nbformat_minor": 2
}
