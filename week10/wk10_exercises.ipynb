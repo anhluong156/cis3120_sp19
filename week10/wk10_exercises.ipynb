{
 "cells": [
  {
   "cell_type": "markdown",
   "metadata": {},
   "source": [
    "# Week 10 Exercises\n"
   ]
  },
  {
   "cell_type": "markdown",
   "metadata": {},
   "source": [
    "## Exercise 1.\n",
    "<br>\n",
    "\n",
    "##### 1.1. \n",
    "\n",
    "Define and store in a module (``employee``) a class named ``Employee`` that holds data about an employee's **name**, **ID number**, **department**, and **job title**. Those data should be assigned to the following attributes of the Employee class: ``_ _name``, ``_ _idnum``, ``_ _department``, & ``_ _title``. \n",
    "\n",
    "<br>\n",
    "\n",
    "##### 1.2. \n",
    "Define the following methods for the Employee class:\n",
    "- An ``_ _init_ _`` method that accepts arguments for an employee's name, ID number, department, and job title\n",
    "- ``set_name``, ``set_idnum``, ``set_department``, & ``set_title`` methods, each of which **accepts** an argument for an employee's **name**, **ID number**, **department**, and **job title**. \n",
    "    - These methods let us to change the values of the ``_ _name``, ``_ _idnum``, ``_ _department``, & ``_ _title`` attributes after an object of the Employee class has been created, if needed.\n",
    "- ``get_name``, ``get_idnum``, ``get_department``, & ``get_title`` methods, each of which **returns** an employee's **name**, **ID number**, **department**, and **job title**. \n",
    "\n",
    "\n",
    "\n",
    "##### 1.3.\n",
    "\n",
    "Write a program that:\n",
    "\n",
    "    (1) first imports the employee module\n",
    "    (2) prompts the user to enter values for employees' names, ID numbers, department names, and job titles. \n",
    "    (3) creates instances of the Employee class based on the user's input\n",
    "    (4) the program needs to have a while loop that asks user whether to continue entering more employee data\n",
    "        - if the answer is 'y' then the user can keep entering values for employees' names, ID#, Dept, & Job Titles\n",
    "        - if the answer is different from 'y' then the program will stop asking for user input\n",
    "    (5) saves the created instances into a list\n",
    "    (6) uses a for loop to print out the attributes of all the Employee instances saved in the list\n",
    "\n",
    "You can use the table below for sample input to test the program\n",
    "\n",
    "| Name | ID Number | Department | Job Title |\n",
    "|----------|:--------------|:-----------------|:-------------|    \n",
    "| Susan Meyers | 47899 | Accounting | Vice President |\n",
    "| Mark Jones | 39119 | IT | Programmer |\n",
    "| Joy Rogers | 81774 | Manufacturing | Engineer |\n",
    "\n",
    "\n",
    "##### 1.4.\n",
    "\n",
    "Write another program that:\n",
    "- does the same things required by parts (1) - (4) in 1.3\n",
    "- but instead of saving the instances into a list, it should save them in a dictionary\n",
    "- asks user whether they want to: add new employee's data, change an existing employee's data, or look up an employee's data\n",
    "- adds to the dictionary new data or updates existing employees' data per the user's input\n",
    "- prints out all relevant data of an employee if user wishes to look up an employee"
   ]
  },
  {
   "cell_type": "markdown",
   "metadata": {},
   "source": [
    "## Exercise 2.\n",
    "\n",
    "Write code using Pandas package to do the following tasks:\n",
    "\n",
    "#### 2.1. \n",
    "Import data from file Hospital_Data.csv using pandas read_csv method\n",
    "\n",
    "#### 2.2.\n",
    "Output the dimensions of the dataframe created from the imported data (number of rows/columns)\n",
    "\n",
    "#### 2.3.\n",
    "Output the general descriptive statistics for hospital overall ratings\n",
    "\n",
    "#### 2.4. \n",
    "Output the number of hospitals for each rating score\n",
    "\n",
    "#### 2.5.\n",
    "Output the number of hospitals for each hospital type, each hospital ownership, and each state\n",
    "\n",
    "#### 2.6. \n",
    "Output the average hospital ratings for each hospital type, each hospital ownership, and each state\n",
    "\n",
    "#### 2.9. \n",
    "Output the hospital type, hospital ownership, and state with the highest average hospital ratings \n",
    "\n",
    "#### 2.10. \n",
    "Output the hospital type, hospital ownership, and state with the lowest average hospital ratings "
   ]
  }
 ],
 "metadata": {
  "kernelspec": {
   "display_name": "Python 3",
   "language": "python",
   "name": "python3"
  },
  "language_info": {
   "codemirror_mode": {
    "name": "ipython",
    "version": 3
   },
   "file_extension": ".py",
   "mimetype": "text/x-python",
   "name": "python",
   "nbconvert_exporter": "python",
   "pygments_lexer": "ipython3",
   "version": "3.6.2"
  }
 },
 "nbformat": 4,
 "nbformat_minor": 2
}
