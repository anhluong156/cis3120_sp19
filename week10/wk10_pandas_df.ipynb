{
 "cells": [
  {
   "cell_type": "markdown",
   "metadata": {},
   "source": [
    "# pandas - DataFrames\n",
    "\n"
   ]
  },
  {
   "cell_type": "markdown",
   "metadata": {},
   "source": [
    "- useful data structure in pandas\n",
    "- similar to spreadsheet \n",
    "- rows, columns\n",
    "- first row: column headings\n",
    "- pandas can internally index each row starting from 0.\n",
    "- we can explicitly specify an index for each row <example below>"
   ]
  },
  {
   "cell_type": "code",
   "execution_count": 7,
   "metadata": {},
   "outputs": [],
   "source": [
    "import numpy as np\n",
    "import pandas as pd\n",
    "from pandas import Series,DataFrame"
   ]
  },
  {
   "cell_type": "code",
   "execution_count": 8,
   "metadata": {},
   "outputs": [],
   "source": [
    "tim_gr=[65,80,80]\n",
    "nanda_gr=[80,80,90]\n",
    "juan_gr=[90,95,95]"
   ]
  },
  {
   "cell_type": "code",
   "execution_count": 9,
   "metadata": {},
   "outputs": [
    {
     "name": "stdout",
     "output_type": "stream",
     "text": [
      "       CIS  ACC  MKT\n",
      "Tim     65   80   80\n",
      "Nanda   80   80   90\n",
      "Juan    90   95   95\n"
     ]
    }
   ],
   "source": [
    "df=DataFrame([tim_gr, nanda_gr, juan_gr], index=['Tim','Nanda','Juan'], columns=['CIS','ACC','MKT'])\n",
    "print(df)"
   ]
  },
  {
   "cell_type": "code",
   "execution_count": 22,
   "metadata": {},
   "outputs": [
    {
     "name": "stdout",
     "output_type": "stream",
     "text": [
      "[[65 80 80]\n",
      " [80 80 90]\n",
      " [90 95 95]]\n"
     ]
    }
   ],
   "source": [
    "gr_book=np.array([tim_gr, nanda_gr, juan_gr])\n",
    "print(gr_book)"
   ]
  },
  {
   "cell_type": "code",
   "execution_count": 23,
   "metadata": {},
   "outputs": [
    {
     "name": "stdout",
     "output_type": "stream",
     "text": [
      "       CIS  ACC  MKT\n",
      "Tim     65   80   80\n",
      "Nanda   80   80   90\n",
      "Juan    90   95   95\n"
     ]
    }
   ],
   "source": [
    "df1=DataFrame(gr_book, index=['Tim','Nanda','Juan'],columns=['CIS','ACC','MKT'])\n",
    "print(df1)"
   ]
  },
  {
   "cell_type": "code",
   "execution_count": 10,
   "metadata": {},
   "outputs": [
    {
     "data": {
      "text/plain": [
       "Index(['CIS', 'ACC', 'MKT'], dtype='object')"
      ]
     },
     "execution_count": 10,
     "metadata": {},
     "output_type": "execute_result"
    }
   ],
   "source": [
    "# Examining column names\n",
    "\n",
    "df.columns"
   ]
  },
  {
   "cell_type": "code",
   "execution_count": 12,
   "metadata": {},
   "outputs": [
    {
     "data": {
      "text/plain": [
       "Tim      65\n",
       "Nanda    80\n",
       "Juan     90\n",
       "Name: CIS, dtype: int64"
      ]
     },
     "execution_count": 12,
     "metadata": {},
     "output_type": "execute_result"
    }
   ],
   "source": [
    "# accessing values in  certain columns\n",
    "\n",
    "df['CIS']"
   ]
  },
  {
   "cell_type": "code",
   "execution_count": 10,
   "metadata": {},
   "outputs": [
    {
     "data": {
      "text/html": [
       "<div>\n",
       "<style scoped>\n",
       "    .dataframe tbody tr th:only-of-type {\n",
       "        vertical-align: middle;\n",
       "    }\n",
       "\n",
       "    .dataframe tbody tr th {\n",
       "        vertical-align: top;\n",
       "    }\n",
       "\n",
       "    .dataframe thead th {\n",
       "        text-align: right;\n",
       "    }\n",
       "</style>\n",
       "<table border=\"1\" class=\"dataframe\">\n",
       "  <thead>\n",
       "    <tr style=\"text-align: right;\">\n",
       "      <th></th>\n",
       "      <th>CIS</th>\n",
       "      <th>ACC</th>\n",
       "      <th>MKT</th>\n",
       "    </tr>\n",
       "  </thead>\n",
       "  <tbody>\n",
       "    <tr>\n",
       "      <th>Tim</th>\n",
       "      <td>65</td>\n",
       "      <td>80</td>\n",
       "      <td>80</td>\n",
       "    </tr>\n",
       "    <tr>\n",
       "      <th>Nanda</th>\n",
       "      <td>80</td>\n",
       "      <td>80</td>\n",
       "      <td>90</td>\n",
       "    </tr>\n",
       "    <tr>\n",
       "      <th>Juan</th>\n",
       "      <td>90</td>\n",
       "      <td>95</td>\n",
       "      <td>95</td>\n",
       "    </tr>\n",
       "  </tbody>\n",
       "</table>\n",
       "</div>"
      ],
      "text/plain": [
       "       CIS  ACC  MKT\n",
       "Tim     65   80   80\n",
       "Nanda   80   80   90\n",
       "Juan    90   95   95"
      ]
     },
     "execution_count": 10,
     "metadata": {},
     "output_type": "execute_result"
    }
   ],
   "source": [
    "# accessing rows\n",
    "#df.head()\n",
    "#df.tail()\n",
    "df.head() "
   ]
  },
  {
   "cell_type": "code",
   "execution_count": 16,
   "metadata": {},
   "outputs": [
    {
     "data": {
      "text/html": [
       "<div>\n",
       "<style scoped>\n",
       "    .dataframe tbody tr th:only-of-type {\n",
       "        vertical-align: middle;\n",
       "    }\n",
       "\n",
       "    .dataframe tbody tr th {\n",
       "        vertical-align: top;\n",
       "    }\n",
       "\n",
       "    .dataframe thead th {\n",
       "        text-align: right;\n",
       "    }\n",
       "</style>\n",
       "<table border=\"1\" class=\"dataframe\">\n",
       "  <thead>\n",
       "    <tr style=\"text-align: right;\">\n",
       "      <th></th>\n",
       "      <th>CIS</th>\n",
       "      <th>ACC</th>\n",
       "      <th>MKT</th>\n",
       "    </tr>\n",
       "  </thead>\n",
       "  <tbody>\n",
       "    <tr>\n",
       "      <th>Tim</th>\n",
       "      <td>65</td>\n",
       "      <td>80</td>\n",
       "      <td>80</td>\n",
       "    </tr>\n",
       "    <tr>\n",
       "      <th>Juan</th>\n",
       "      <td>90</td>\n",
       "      <td>95</td>\n",
       "      <td>95</td>\n",
       "    </tr>\n",
       "  </tbody>\n",
       "</table>\n",
       "</div>"
      ],
      "text/plain": [
       "      CIS  ACC  MKT\n",
       "Tim    65   80   80\n",
       "Juan   90   95   95"
      ]
     },
     "execution_count": 16,
     "metadata": {},
     "output_type": "execute_result"
    }
   ],
   "source": [
    "# accessing rows by index labels\n",
    "df.loc[['Tim','Juan']]"
   ]
  },
  {
   "cell_type": "code",
   "execution_count": 13,
   "metadata": {},
   "outputs": [
    {
     "data": {
      "text/html": [
       "<div>\n",
       "<style scoped>\n",
       "    .dataframe tbody tr th:only-of-type {\n",
       "        vertical-align: middle;\n",
       "    }\n",
       "\n",
       "    .dataframe tbody tr th {\n",
       "        vertical-align: top;\n",
       "    }\n",
       "\n",
       "    .dataframe thead th {\n",
       "        text-align: right;\n",
       "    }\n",
       "</style>\n",
       "<table border=\"1\" class=\"dataframe\">\n",
       "  <thead>\n",
       "    <tr style=\"text-align: right;\">\n",
       "      <th></th>\n",
       "      <th>CIS</th>\n",
       "      <th>ACC</th>\n",
       "      <th>MKT</th>\n",
       "    </tr>\n",
       "  </thead>\n",
       "  <tbody>\n",
       "    <tr>\n",
       "      <th>Tim</th>\n",
       "      <td>65</td>\n",
       "      <td>80</td>\n",
       "      <td>80</td>\n",
       "    </tr>\n",
       "    <tr>\n",
       "      <th>Nanda</th>\n",
       "      <td>80</td>\n",
       "      <td>80</td>\n",
       "      <td>90</td>\n",
       "    </tr>\n",
       "  </tbody>\n",
       "</table>\n",
       "</div>"
      ],
      "text/plain": [
       "       CIS  ACC  MKT\n",
       "Tim     65   80   80\n",
       "Nanda   80   80   90"
      ]
     },
     "execution_count": 13,
     "metadata": {},
     "output_type": "execute_result"
    }
   ],
   "source": [
    "# accessing rows by index numbers\n",
    "df.iloc[:2]"
   ]
  },
  {
   "cell_type": "code",
   "execution_count": 17,
   "metadata": {},
   "outputs": [
    {
     "data": {
      "text/html": [
       "<div>\n",
       "<style scoped>\n",
       "    .dataframe tbody tr th:only-of-type {\n",
       "        vertical-align: middle;\n",
       "    }\n",
       "\n",
       "    .dataframe tbody tr th {\n",
       "        vertical-align: top;\n",
       "    }\n",
       "\n",
       "    .dataframe thead th {\n",
       "        text-align: right;\n",
       "    }\n",
       "</style>\n",
       "<table border=\"1\" class=\"dataframe\">\n",
       "  <thead>\n",
       "    <tr style=\"text-align: right;\">\n",
       "      <th></th>\n",
       "      <th>CIS</th>\n",
       "      <th>MKT</th>\n",
       "    </tr>\n",
       "  </thead>\n",
       "  <tbody>\n",
       "    <tr>\n",
       "      <th>Tim</th>\n",
       "      <td>65</td>\n",
       "      <td>80</td>\n",
       "    </tr>\n",
       "    <tr>\n",
       "      <th>Juan</th>\n",
       "      <td>90</td>\n",
       "      <td>95</td>\n",
       "    </tr>\n",
       "  </tbody>\n",
       "</table>\n",
       "</div>"
      ],
      "text/plain": [
       "      CIS  MKT\n",
       "Tim    65   80\n",
       "Juan   90   95"
      ]
     },
     "execution_count": 17,
     "metadata": {},
     "output_type": "execute_result"
    }
   ],
   "source": [
    "## accessing certain rows & certain columns\n",
    "df[['CIS','MKT']].loc[['Tim','Juan']]"
   ]
  },
  {
   "cell_type": "code",
   "execution_count": 15,
   "metadata": {
    "scrolled": true
   },
   "outputs": [
    {
     "name": "stdout",
     "output_type": "stream",
     "text": [
      "3\n",
      "3\n"
     ]
    }
   ],
   "source": [
    "# number of rows and columns\n",
    "print(len(df))\n",
    "print(len(df.columns))"
   ]
  },
  {
   "cell_type": "code",
   "execution_count": 17,
   "metadata": {},
   "outputs": [
    {
     "data": {
      "text/plain": [
       "90    1\n",
       "65    1\n",
       "80    1\n",
       "Name: CIS, dtype: int64"
      ]
     },
     "execution_count": 17,
     "metadata": {},
     "output_type": "execute_result"
    }
   ],
   "source": [
    "# counts for each value in column CIS\n",
    "type_count = df['CIS'].value_counts()\n",
    "type_count"
   ]
  },
  {
   "cell_type": "code",
   "execution_count": 20,
   "metadata": {},
   "outputs": [
    {
     "data": {
      "text/plain": [
       "CIS\n",
       "65    1\n",
       "80    1\n",
       "90    1\n",
       "dtype: int64"
      ]
     },
     "execution_count": 20,
     "metadata": {},
     "output_type": "execute_result"
    }
   ],
   "source": [
    "# same as cell above, using groupby func\n",
    "x=df.groupby('CIS').size()\n",
    "x"
   ]
  },
  {
   "cell_type": "markdown",
   "metadata": {},
   "source": [
    "``\n",
    "dataframe['col_name'].describe()\n",
    "dataframe['col_name'].mean()\n",
    "dataframe['col_name'].min()\n",
    "dataframe['col_name'].max()\n",
    "dataframe.T``\n",
    "\n"
   ]
  },
  {
   "cell_type": "markdown",
   "metadata": {},
   "source": [
    "## Pandas Basic Uses\n",
    "## Example: Hospital Data"
   ]
  },
  {
   "cell_type": "code",
   "execution_count": 29,
   "metadata": {},
   "outputs": [],
   "source": [
    "df = pd.read_csv('Hospital_Data.csv')"
   ]
  },
  {
   "cell_type": "markdown",
   "metadata": {},
   "source": [
    "Source: https://www.medicare.gov/hospitalcompare/about/hospital-overall-ratings.html\n",
    "\n",
    "- The data contains information about hospitals across the U.S, including Provider ID, Hospital Name, Address, City/State, Hospital Type, Hospital ownership, Emergency services, Overall Rating (1-5 scale) etc.\n",
    "\n",
    "- The Hospital Overall Rating score is computed from up to 57 quality measures across 7 areas of quality (some hospitals have less measures, as few as 9, some have more, as many as 57, the average is about 39 measures). \n",
    "\n",
    "- The 7 areas of quality are: Mortality, Safety of Care, Readmission, Patient Experience, Effectiveness of Care, Timeliness of Care, Efficient Use of Medical Imaging."
   ]
  },
  {
   "cell_type": "markdown",
   "metadata": {},
   "source": [
    "### In this example, we want to compare the # of hospitals and the mean overall ratings across the US,  hospital types, hospital ownerships, etc."
   ]
  },
  {
   "cell_type": "code",
   "execution_count": 116,
   "metadata": {},
   "outputs": [
    {
     "data": {
      "text/html": [
       "<div>\n",
       "<style scoped>\n",
       "    .dataframe tbody tr th:only-of-type {\n",
       "        vertical-align: middle;\n",
       "    }\n",
       "\n",
       "    .dataframe tbody tr th {\n",
       "        vertical-align: top;\n",
       "    }\n",
       "\n",
       "    .dataframe thead th {\n",
       "        text-align: right;\n",
       "    }\n",
       "</style>\n",
       "<table border=\"1\" class=\"dataframe\">\n",
       "  <thead>\n",
       "    <tr style=\"text-align: right;\">\n",
       "      <th></th>\n",
       "      <th>ProviderID</th>\n",
       "      <th>HospitalName</th>\n",
       "      <th>Address</th>\n",
       "      <th>City</th>\n",
       "      <th>State</th>\n",
       "      <th>ZIPCode</th>\n",
       "      <th>CountyName</th>\n",
       "      <th>PhoneNumber</th>\n",
       "      <th>HospitalType</th>\n",
       "      <th>HospitalOwnership</th>\n",
       "      <th>...</th>\n",
       "      <th>Patientexperiencenationalcomparison</th>\n",
       "      <th>Patientexperiencenationalcomparisonfootnote</th>\n",
       "      <th>Effectivenessofcarenationalcomparison</th>\n",
       "      <th>Effectivenessofcarenationalcomparisonfootnote</th>\n",
       "      <th>Timelinessofcarenationalcomparison</th>\n",
       "      <th>Timelinessofcarenationalcomparisonfootnote</th>\n",
       "      <th>Efficientuseofmedicalimagingnationalcomparison</th>\n",
       "      <th>Efficientuseofmedicalimagingnationalcomparisonfootnote</th>\n",
       "      <th>Location</th>\n",
       "      <th>filter_$</th>\n",
       "    </tr>\n",
       "  </thead>\n",
       "  <tbody>\n",
       "    <tr>\n",
       "      <th>0</th>\n",
       "      <td>10005</td>\n",
       "      <td>MARSHALL MEDICAL CENTER SOUTH</td>\n",
       "      <td>2505 U S HIGHWAY 431 NORTH</td>\n",
       "      <td>BOAZ</td>\n",
       "      <td>AL</td>\n",
       "      <td>35957</td>\n",
       "      <td>MARSHALL</td>\n",
       "      <td>2565938310</td>\n",
       "      <td>Acute Care Hospitals</td>\n",
       "      <td>Government - Hospital District or Authority</td>\n",
       "      <td>...</td>\n",
       "      <td>Same as the national average</td>\n",
       "      <td>NaN</td>\n",
       "      <td>Same as the national average</td>\n",
       "      <td>NaN</td>\n",
       "      <td>Above the national average</td>\n",
       "      <td>NaN</td>\n",
       "      <td>Below the national average</td>\n",
       "      <td>NaN</td>\n",
       "      <td>2505 U S HIGHWAY 431 NORTH BOAZ, AL</td>\n",
       "      <td>1</td>\n",
       "    </tr>\n",
       "    <tr>\n",
       "      <th>1</th>\n",
       "      <td>10012</td>\n",
       "      <td>DEKALB REGIONAL MEDICAL CENTER</td>\n",
       "      <td>200 MED CENTER DRIVE</td>\n",
       "      <td>FORT PAYNE</td>\n",
       "      <td>AL</td>\n",
       "      <td>35968</td>\n",
       "      <td>DE KALB</td>\n",
       "      <td>2568453150</td>\n",
       "      <td>Acute Care Hospitals</td>\n",
       "      <td>Proprietary</td>\n",
       "      <td>...</td>\n",
       "      <td>Below the national average</td>\n",
       "      <td>NaN</td>\n",
       "      <td>Same as the national average</td>\n",
       "      <td>NaN</td>\n",
       "      <td>Above the national average</td>\n",
       "      <td>NaN</td>\n",
       "      <td>Same as the national average</td>\n",
       "      <td>NaN</td>\n",
       "      <td>200 MED CENTER DRIVE FORT PAYNE, AL</td>\n",
       "      <td>1</td>\n",
       "    </tr>\n",
       "    <tr>\n",
       "      <th>2</th>\n",
       "      <td>10095</td>\n",
       "      <td>HALE COUNTY HOSPITAL</td>\n",
       "      <td>508 GREEN STREET</td>\n",
       "      <td>GREENSBORO</td>\n",
       "      <td>AL</td>\n",
       "      <td>36744</td>\n",
       "      <td>HALE</td>\n",
       "      <td>3346243024</td>\n",
       "      <td>Acute Care Hospitals</td>\n",
       "      <td>Government - Hospital District or Authority</td>\n",
       "      <td>...</td>\n",
       "      <td>Not Available</td>\n",
       "      <td>There are too few measures or measure groups r...</td>\n",
       "      <td>Same as the national average</td>\n",
       "      <td>NaN</td>\n",
       "      <td>Same as the national average</td>\n",
       "      <td>NaN</td>\n",
       "      <td>Not Available</td>\n",
       "      <td>Results are not available for this reporting p...</td>\n",
       "      <td>508 GREEN STREET GREENSBORO, AL</td>\n",
       "      <td>1</td>\n",
       "    </tr>\n",
       "    <tr>\n",
       "      <th>3</th>\n",
       "      <td>10131</td>\n",
       "      <td>CRESTWOOD MEDICAL CENTER</td>\n",
       "      <td>ONE HOSPITAL DR SE</td>\n",
       "      <td>HUNTSVILLE</td>\n",
       "      <td>AL</td>\n",
       "      <td>35801</td>\n",
       "      <td>MADISON</td>\n",
       "      <td>2568823100</td>\n",
       "      <td>Acute Care Hospitals</td>\n",
       "      <td>Proprietary</td>\n",
       "      <td>...</td>\n",
       "      <td>Below the national average</td>\n",
       "      <td>NaN</td>\n",
       "      <td>Same as the national average</td>\n",
       "      <td>NaN</td>\n",
       "      <td>Below the national average</td>\n",
       "      <td>NaN</td>\n",
       "      <td>Same as the national average</td>\n",
       "      <td>NaN</td>\n",
       "      <td>ONE HOSPITAL DR SE HUNTSVILLE, AL</td>\n",
       "      <td>1</td>\n",
       "    </tr>\n",
       "    <tr>\n",
       "      <th>4</th>\n",
       "      <td>20018</td>\n",
       "      <td>YUKON KUSKOKWIM DELTA REG HOSPITAL</td>\n",
       "      <td>PO BOX 287</td>\n",
       "      <td>BETHEL</td>\n",
       "      <td>AK</td>\n",
       "      <td>99559</td>\n",
       "      <td>BETHEL</td>\n",
       "      <td>9075436300</td>\n",
       "      <td>Acute Care Hospitals</td>\n",
       "      <td>Tribal</td>\n",
       "      <td>...</td>\n",
       "      <td>Below the national average</td>\n",
       "      <td>NaN</td>\n",
       "      <td>Same as the national average</td>\n",
       "      <td>NaN</td>\n",
       "      <td>Not Available</td>\n",
       "      <td>Results are not available for this reporting p...</td>\n",
       "      <td>Not Available</td>\n",
       "      <td>There are too few measures or measure groups r...</td>\n",
       "      <td>PO BOX 287 BETHEL, AK</td>\n",
       "      <td>1</td>\n",
       "    </tr>\n",
       "  </tbody>\n",
       "</table>\n",
       "<p>5 rows × 30 columns</p>\n",
       "</div>"
      ],
      "text/plain": [
       "   ProviderID                        HospitalName                     Address  \\\n",
       "0       10005       MARSHALL MEDICAL CENTER SOUTH  2505 U S HIGHWAY 431 NORTH   \n",
       "1       10012      DEKALB REGIONAL MEDICAL CENTER        200 MED CENTER DRIVE   \n",
       "2       10095                HALE COUNTY HOSPITAL            508 GREEN STREET   \n",
       "3       10131            CRESTWOOD MEDICAL CENTER          ONE HOSPITAL DR SE   \n",
       "4       20018  YUKON KUSKOKWIM DELTA REG HOSPITAL                  PO BOX 287   \n",
       "\n",
       "         City State  ZIPCode CountyName  PhoneNumber          HospitalType  \\\n",
       "0        BOAZ    AL    35957   MARSHALL   2565938310  Acute Care Hospitals   \n",
       "1  FORT PAYNE    AL    35968    DE KALB   2568453150  Acute Care Hospitals   \n",
       "2  GREENSBORO    AL    36744       HALE   3346243024  Acute Care Hospitals   \n",
       "3  HUNTSVILLE    AL    35801    MADISON   2568823100  Acute Care Hospitals   \n",
       "4      BETHEL    AK    99559     BETHEL   9075436300  Acute Care Hospitals   \n",
       "\n",
       "                             HospitalOwnership   ...     \\\n",
       "0  Government - Hospital District or Authority   ...      \n",
       "1                                  Proprietary   ...      \n",
       "2  Government - Hospital District or Authority   ...      \n",
       "3                                  Proprietary   ...      \n",
       "4                                       Tribal   ...      \n",
       "\n",
       "   Patientexperiencenationalcomparison  \\\n",
       "0         Same as the national average   \n",
       "1           Below the national average   \n",
       "2                        Not Available   \n",
       "3           Below the national average   \n",
       "4           Below the national average   \n",
       "\n",
       "         Patientexperiencenationalcomparisonfootnote  \\\n",
       "0                                                NaN   \n",
       "1                                                NaN   \n",
       "2  There are too few measures or measure groups r...   \n",
       "3                                                NaN   \n",
       "4                                                NaN   \n",
       "\n",
       "   Effectivenessofcarenationalcomparison  \\\n",
       "0           Same as the national average   \n",
       "1           Same as the national average   \n",
       "2           Same as the national average   \n",
       "3           Same as the national average   \n",
       "4           Same as the national average   \n",
       "\n",
       "  Effectivenessofcarenationalcomparisonfootnote  \\\n",
       "0                                           NaN   \n",
       "1                                           NaN   \n",
       "2                                           NaN   \n",
       "3                                           NaN   \n",
       "4                                           NaN   \n",
       "\n",
       "  Timelinessofcarenationalcomparison  \\\n",
       "0         Above the national average   \n",
       "1         Above the national average   \n",
       "2       Same as the national average   \n",
       "3         Below the national average   \n",
       "4                      Not Available   \n",
       "\n",
       "          Timelinessofcarenationalcomparisonfootnote  \\\n",
       "0                                                NaN   \n",
       "1                                                NaN   \n",
       "2                                                NaN   \n",
       "3                                                NaN   \n",
       "4  Results are not available for this reporting p...   \n",
       "\n",
       "  Efficientuseofmedicalimagingnationalcomparison  \\\n",
       "0                     Below the national average   \n",
       "1                   Same as the national average   \n",
       "2                                  Not Available   \n",
       "3                   Same as the national average   \n",
       "4                                  Not Available   \n",
       "\n",
       "  Efficientuseofmedicalimagingnationalcomparisonfootnote  \\\n",
       "0                                                NaN       \n",
       "1                                                NaN       \n",
       "2  Results are not available for this reporting p...       \n",
       "3                                                NaN       \n",
       "4  There are too few measures or measure groups r...       \n",
       "\n",
       "                              Location filter_$  \n",
       "0  2505 U S HIGHWAY 431 NORTH BOAZ, AL        1  \n",
       "1  200 MED CENTER DRIVE FORT PAYNE, AL        1  \n",
       "2      508 GREEN STREET GREENSBORO, AL        1  \n",
       "3    ONE HOSPITAL DR SE HUNTSVILLE, AL        1  \n",
       "4                PO BOX 287 BETHEL, AK        1  \n",
       "\n",
       "[5 rows x 30 columns]"
      ]
     },
     "execution_count": 116,
     "metadata": {},
     "output_type": "execute_result"
    }
   ],
   "source": [
    "df.head() # first few rows"
   ]
  },
  {
   "cell_type": "code",
   "execution_count": null,
   "metadata": {},
   "outputs": [],
   "source": [
    "df.tail() # last few rows "
   ]
  },
  {
   "cell_type": "code",
   "execution_count": 30,
   "metadata": {},
   "outputs": [
    {
     "data": {
      "text/plain": [
       "Index(['ProviderID', 'HospitalName', 'Address', 'City', 'State', 'ZIPCode',\n",
       "       'CountyName', 'PhoneNumber', 'HospitalType', 'HospitalOwnership',\n",
       "       'EmergencyServices', 'MeetscriteriaformeaningfuluseofEHRs',\n",
       "       'Hospitaloverallrating', 'Hospitaloverallratingfootnote',\n",
       "       'Mortalitynationalcomparison', 'Mortalitynationalcomparisonfootnote',\n",
       "       'Safetyofcarenationalcomparison',\n",
       "       'Safetyofcarenationalcomparisonfootnote',\n",
       "       'Readmissionnationalcomparison',\n",
       "       'Readmissionnationalcomparisonfootnote',\n",
       "       'Patientexperiencenationalcomparison',\n",
       "       'Patientexperiencenationalcomparisonfootnote',\n",
       "       'Effectivenessofcarenationalcomparison',\n",
       "       'Effectivenessofcarenationalcomparisonfootnote',\n",
       "       'Timelinessofcarenationalcomparison',\n",
       "       'Timelinessofcarenationalcomparisonfootnote',\n",
       "       'Efficientuseofmedicalimagingnationalcomparison',\n",
       "       'Efficientuseofmedicalimagingnationalcomparisonfootnote', 'Location',\n",
       "       'filter_$'],\n",
       "      dtype='object')"
      ]
     },
     "execution_count": 30,
     "metadata": {},
     "output_type": "execute_result"
    }
   ],
   "source": [
    "df.columns # list names of columns"
   ]
  },
  {
   "cell_type": "code",
   "execution_count": 28,
   "metadata": {},
   "outputs": [
    {
     "data": {
      "text/plain": [
       "count    3675.000000\n",
       "mean        3.151020\n",
       "std         1.068577\n",
       "min         1.000000\n",
       "25%         2.000000\n",
       "50%         3.000000\n",
       "75%         4.000000\n",
       "max         5.000000\n",
       "Name: Hospitaloverallrating, dtype: float64"
      ]
     },
     "execution_count": 28,
     "metadata": {},
     "output_type": "execute_result"
    }
   ],
   "source": [
    "# descriptive statistics for Hospital Overall Ratings\n",
    "df['Hospitaloverallrating'].describe()"
   ]
  },
  {
   "cell_type": "code",
   "execution_count": 66,
   "metadata": {},
   "outputs": [
    {
     "name": "stdout",
     "output_type": "stream",
     "text": [
      "3    1178\n",
      "4    1153\n",
      "2     750\n",
      "5     335\n",
      "1     259\n",
      "Name: Hospitaloverallrating, dtype: int64\n"
     ]
    }
   ],
   "source": [
    "# number of hospitals in each rating score, automatically sorted \n",
    "rating_count = df['Hospitaloverallrating'].value_counts()\n",
    "print(rating_count)"
   ]
  },
  {
   "cell_type": "code",
   "execution_count": 69,
   "metadata": {
    "scrolled": false
   },
   "outputs": [
    {
     "name": "stdout",
     "output_type": "stream",
     "text": [
      "<class 'pandas.core.series.Series'>\n"
     ]
    },
    {
     "data": {
      "text/plain": [
       "HospitalType\n",
       "Acute Care Hospitals         3.075372\n",
       "Critical Access Hospitals    3.503077\n",
       "Name: Hospitaloverallrating, dtype: float64"
      ]
     },
     "execution_count": 69,
     "metadata": {},
     "output_type": "execute_result"
    }
   ],
   "source": [
    "# AVG HOSPITAL OVERAL RATINGS FOR EACH HOSPITAL TYPE\n",
    "avg_rating_hosptype = df.groupby('HospitalType')['Hospitaloverallrating'].mean()\n",
    "print(type(avg_rating_hosptype)) #avg_rating_hosptype is of pandas series type, values in HospitalType columns are used as indices\n",
    "avg_rating_hosptype"
   ]
  },
  {
   "cell_type": "code",
   "execution_count": 70,
   "metadata": {},
   "outputs": [
    {
     "name": "stdout",
     "output_type": "stream",
     "text": [
      "<class 'pandas.core.frame.DataFrame'>\n"
     ]
    },
    {
     "data": {
      "text/html": [
       "<div>\n",
       "<style scoped>\n",
       "    .dataframe tbody tr th:only-of-type {\n",
       "        vertical-align: middle;\n",
       "    }\n",
       "\n",
       "    .dataframe tbody tr th {\n",
       "        vertical-align: top;\n",
       "    }\n",
       "\n",
       "    .dataframe thead th {\n",
       "        text-align: right;\n",
       "    }\n",
       "</style>\n",
       "<table border=\"1\" class=\"dataframe\">\n",
       "  <thead>\n",
       "    <tr style=\"text-align: right;\">\n",
       "      <th></th>\n",
       "      <th>HospitalType</th>\n",
       "      <th>Hospitaloverallrating</th>\n",
       "    </tr>\n",
       "  </thead>\n",
       "  <tbody>\n",
       "    <tr>\n",
       "      <th>0</th>\n",
       "      <td>Acute Care Hospitals</td>\n",
       "      <td>3.075372</td>\n",
       "    </tr>\n",
       "    <tr>\n",
       "      <th>1</th>\n",
       "      <td>Critical Access Hospitals</td>\n",
       "      <td>3.503077</td>\n",
       "    </tr>\n",
       "  </tbody>\n",
       "</table>\n",
       "</div>"
      ],
      "text/plain": [
       "                HospitalType  Hospitaloverallrating\n",
       "0       Acute Care Hospitals               3.075372\n",
       "1  Critical Access Hospitals               3.503077"
      ]
     },
     "execution_count": 70,
     "metadata": {},
     "output_type": "execute_result"
    }
   ],
   "source": [
    "# same results as above, nicer output (HospitalType values are not treated as indices, avg_rating_hosptype2 is of pandas dataframe type)\n",
    "avg_rating_hosptype2 = df.groupby('HospitalType', as_index=False)['Hospitaloverallrating'].mean()\n",
    "print(type(avg_rating_hosptype2))\n",
    "avg_rating_hosptype2"
   ]
  },
  {
   "cell_type": "code",
   "execution_count": 91,
   "metadata": {},
   "outputs": [
    {
     "name": "stdout",
     "output_type": "stream",
     "text": [
      "<class 'pandas.core.series.Series'>\n"
     ]
    },
    {
     "data": {
      "text/plain": [
       "1    3500\n",
       "0     175\n",
       "Name: EmergencyServices, dtype: int64"
      ]
     },
     "execution_count": 91,
     "metadata": {},
     "output_type": "execute_result"
    }
   ],
   "source": [
    "# NUMBER OF HOSPITALS W/ & W/O EMERGENCY SERVICES (1 means with, 0 means without)\n",
    "emergency_count = df['EmergencyServices'].value_counts()\n",
    "print(type(emergency_count)) # pandas series type\n",
    "emergency_count"
   ]
  },
  {
   "cell_type": "code",
   "execution_count": 108,
   "metadata": {},
   "outputs": [
    {
     "data": {
      "text/html": [
       "<div>\n",
       "<style scoped>\n",
       "    .dataframe tbody tr th:only-of-type {\n",
       "        vertical-align: middle;\n",
       "    }\n",
       "\n",
       "    .dataframe tbody tr th {\n",
       "        vertical-align: top;\n",
       "    }\n",
       "\n",
       "    .dataframe thead th {\n",
       "        text-align: right;\n",
       "    }\n",
       "</style>\n",
       "<table border=\"1\" class=\"dataframe\">\n",
       "  <thead>\n",
       "    <tr style=\"text-align: right;\">\n",
       "      <th></th>\n",
       "      <th>EmergencyServices</th>\n",
       "      <th>NumberofHospitals</th>\n",
       "    </tr>\n",
       "  </thead>\n",
       "  <tbody>\n",
       "    <tr>\n",
       "      <th>0</th>\n",
       "      <td>1</td>\n",
       "      <td>3500</td>\n",
       "    </tr>\n",
       "    <tr>\n",
       "      <th>1</th>\n",
       "      <td>0</td>\n",
       "      <td>175</td>\n",
       "    </tr>\n",
       "  </tbody>\n",
       "</table>\n",
       "</div>"
      ],
      "text/plain": [
       "   EmergencyServices  NumberofHospitals\n",
       "0                  1               3500\n",
       "1                  0                175"
      ]
     },
     "execution_count": 108,
     "metadata": {},
     "output_type": "execute_result"
    }
   ],
   "source": [
    "# nicer output\n",
    "emergency_count2 = df['EmergencyServices'].value_counts()\n",
    "emergency_count2 = pd.DataFrame([emergency_count])  # convert series to dataframe\n",
    "emergency_count2 = emergency_count2.T # transpose dataframe \n",
    "emergency_count2.reset_index(level=0, inplace=True) \n",
    "emergency_count2.columns = ['EmergencyServices','NumberofHospitals'] # rename columns\n",
    "emergency_count2"
   ]
  },
  {
   "cell_type": "code",
   "execution_count": 113,
   "metadata": {},
   "outputs": [
    {
     "data": {
      "text/html": [
       "<div>\n",
       "<style scoped>\n",
       "    .dataframe tbody tr th:only-of-type {\n",
       "        vertical-align: middle;\n",
       "    }\n",
       "\n",
       "    .dataframe tbody tr th {\n",
       "        vertical-align: top;\n",
       "    }\n",
       "\n",
       "    .dataframe thead th {\n",
       "        text-align: right;\n",
       "    }\n",
       "</style>\n",
       "<table border=\"1\" class=\"dataframe\">\n",
       "  <thead>\n",
       "    <tr style=\"text-align: right;\">\n",
       "      <th></th>\n",
       "      <th>HospitalOwnership</th>\n",
       "      <th>Hospitaloverallrating</th>\n",
       "    </tr>\n",
       "  </thead>\n",
       "  <tbody>\n",
       "    <tr>\n",
       "      <th>0</th>\n",
       "      <td>Government - Federal</td>\n",
       "      <td>2.500000</td>\n",
       "    </tr>\n",
       "    <tr>\n",
       "      <th>1</th>\n",
       "      <td>Government - Hospital District or Authority</td>\n",
       "      <td>3.060241</td>\n",
       "    </tr>\n",
       "    <tr>\n",
       "      <th>2</th>\n",
       "      <td>Government - Local</td>\n",
       "      <td>3.092664</td>\n",
       "    </tr>\n",
       "    <tr>\n",
       "      <th>3</th>\n",
       "      <td>Government - State</td>\n",
       "      <td>2.744186</td>\n",
       "    </tr>\n",
       "    <tr>\n",
       "      <th>4</th>\n",
       "      <td>Physician</td>\n",
       "      <td>4.000000</td>\n",
       "    </tr>\n",
       "    <tr>\n",
       "      <th>5</th>\n",
       "      <td>Proprietary</td>\n",
       "      <td>2.821767</td>\n",
       "    </tr>\n",
       "    <tr>\n",
       "      <th>6</th>\n",
       "      <td>Tribal</td>\n",
       "      <td>3.250000</td>\n",
       "    </tr>\n",
       "    <tr>\n",
       "      <th>7</th>\n",
       "      <td>Voluntary non-profit - Church</td>\n",
       "      <td>3.284281</td>\n",
       "    </tr>\n",
       "    <tr>\n",
       "      <th>8</th>\n",
       "      <td>Voluntary non-profit - Other</td>\n",
       "      <td>3.341667</td>\n",
       "    </tr>\n",
       "    <tr>\n",
       "      <th>9</th>\n",
       "      <td>Voluntary non-profit - Private</td>\n",
       "      <td>3.238376</td>\n",
       "    </tr>\n",
       "  </tbody>\n",
       "</table>\n",
       "</div>"
      ],
      "text/plain": [
       "                             HospitalOwnership  Hospitaloverallrating\n",
       "0                         Government - Federal               2.500000\n",
       "1  Government - Hospital District or Authority               3.060241\n",
       "2                           Government - Local               3.092664\n",
       "3                           Government - State               2.744186\n",
       "4                                    Physician               4.000000\n",
       "5                                  Proprietary               2.821767\n",
       "6                                       Tribal               3.250000\n",
       "7                Voluntary non-profit - Church               3.284281\n",
       "8                 Voluntary non-profit - Other               3.341667\n",
       "9               Voluntary non-profit - Private               3.238376"
      ]
     },
     "execution_count": 113,
     "metadata": {},
     "output_type": "execute_result"
    }
   ],
   "source": [
    "# Mean ratings for each hospital ownership type\n",
    "mean_ratings_ownership = df.groupby('HospitalOwnership', as_index=False)['Hospitaloverallrating'].mean()\n",
    "mean_ratings_ownership"
   ]
  },
  {
   "cell_type": "code",
   "execution_count": 115,
   "metadata": {},
   "outputs": [
    {
     "data": {
      "text/html": [
       "<div>\n",
       "<style scoped>\n",
       "    .dataframe tbody tr th:only-of-type {\n",
       "        vertical-align: middle;\n",
       "    }\n",
       "\n",
       "    .dataframe tbody tr th {\n",
       "        vertical-align: top;\n",
       "    }\n",
       "\n",
       "    .dataframe thead th {\n",
       "        text-align: right;\n",
       "    }\n",
       "</style>\n",
       "<table border=\"1\" class=\"dataframe\">\n",
       "  <thead>\n",
       "    <tr style=\"text-align: right;\">\n",
       "      <th></th>\n",
       "      <th>HospitalOwnership</th>\n",
       "      <th>Hospitaloverallrating</th>\n",
       "    </tr>\n",
       "  </thead>\n",
       "  <tbody>\n",
       "    <tr>\n",
       "      <th>4</th>\n",
       "      <td>Physician</td>\n",
       "      <td>4.0</td>\n",
       "    </tr>\n",
       "  </tbody>\n",
       "</table>\n",
       "</div>"
      ],
      "text/plain": [
       "  HospitalOwnership  Hospitaloverallrating\n",
       "4         Physician                    4.0"
      ]
     },
     "execution_count": 115,
     "metadata": {},
     "output_type": "execute_result"
    }
   ],
   "source": [
    "# Which hospital ownership type has highest mean ratings?\n",
    "\n",
    "# select the row from mean_ratings_ownership dataframe with the highest value in the Hospitaloverallrating column\n",
    "mean_ratings_ownership[mean_ratings_ownership['Hospitaloverallrating'] == mean_ratings_ownership['Hospitaloverallrating'].max()]"
   ]
  }
 ],
 "metadata": {
  "kernelspec": {
   "display_name": "Python 3",
   "language": "python",
   "name": "python3"
  },
  "language_info": {
   "codemirror_mode": {
    "name": "ipython",
    "version": 3
   },
   "file_extension": ".py",
   "mimetype": "text/x-python",
   "name": "python",
   "nbconvert_exporter": "python",
   "pygments_lexer": "ipython3",
   "version": "3.6.2"
  }
 },
 "nbformat": 4,
 "nbformat_minor": 1
}
